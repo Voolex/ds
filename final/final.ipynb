{
  "nbformat": 4,
  "nbformat_minor": 0,
  "metadata": {
    "accelerator": "GPU",
    "colab": {
      "name": "Experemental_Final.ipynb",
      "provenance": [],
      "toc_visible": true
    },
    "kernelspec": {
      "display_name": "Python 3",
      "name": "python3"
    }
  },
  "cells": [
    {
      "cell_type": "markdown",
      "metadata": {
        "id": "xL5feV6Sc0dC"
      },
      "source": [
        "#Финальный проект по курсу \"Школа ДС\"\r\n"
      ]
    },
    {
      "cell_type": "markdown",
      "metadata": {
        "id": "mfdFCIDQHGCX"
      },
      "source": [
        "Целью проекта является построение моделей для выявления мошеннических транзакций по кредитным картам.\r\n",
        "\r\n",
        "Проект основан на открытых данных с Kaggle. Данные созданы синтетически с помощью симулятора PaySim, который использует для своей работы реальные данные.\r\n",
        "\r\n",
        "Ссылка на датасет: [Kaggle](https://www.kaggle.com/ntnu-testimon/paysim1)\r\n",
        "\r\n",
        "Для построения модели будут использованы следующие методы:\r\n",
        "\r\n",
        "*   KNN\r\n",
        "*   Логистическая регрессия\r\n",
        "*   SVM\r\n",
        "*   Градиентный бустинг (XGBoost)"
      ]
    },
    {
      "cell_type": "markdown",
      "metadata": {
        "id": "J8cFGPuhW2Jz"
      },
      "source": [
        "# Загрузка библиотек и данных"
      ]
    },
    {
      "cell_type": "markdown",
      "metadata": {
        "id": "nhRBOOVVeCU5"
      },
      "source": [
        "##### Импортируем все необходимые библиотеки\r\n"
      ]
    },
    {
      "cell_type": "code",
      "metadata": {
        "id": "9JuIc0P_c2vx"
      },
      "source": [
        "import os\r\n",
        "import pandas as pd\r\n",
        "import numpy as np\r\n",
        "\r\n",
        "import matplotlib.pyplot as plt\r\n",
        "import seaborn as sns\r\n",
        "\r\n",
        "from sklearn import preprocessing\r\n",
        "from sklearn.preprocessing import scale\r\n",
        "from sklearn.model_selection import train_test_split\r\n",
        "from sklearn.neighbors import KNeighborsClassifier\r\n",
        "from sklearn.model_selection import GridSearchCV\r\n",
        "from sklearn import metrics\r\n",
        "from sklearn.model_selection import RandomizedSearchCV\r\n",
        "from sklearn.linear_model import LogisticRegression\r\n",
        "from sklearn.svm import SVC\r\n",
        "from xgboost import XGBClassifier\r\n",
        "\r\n",
        "from imblearn.over_sampling import SMOTE, ADASYN\r\n",
        "\r\n",
        "from warnings import filterwarnings\r\n",
        "\r\n",
        "import joblib\r\n",
        "\r\n",
        "# Если вычисления на платформе от гугл, то раскомментировать\r\n",
        "from google.colab import drive\r\n",
        "\r\n",
        "%matplotlib inline\r\n",
        "filterwarnings('ignore')"
      ],
      "execution_count": 1,
      "outputs": []
    },
    {
      "cell_type": "markdown",
      "metadata": {
        "id": "khvWxQdJNI-s"
      },
      "source": [
        "##### Необходимые функции"
      ]
    },
    {
      "cell_type": "markdown",
      "metadata": {
        "id": "CvHuOedaOPAH"
      },
      "source": [
        "Функция отделяет целевую переменную от данных"
      ]
    },
    {
      "cell_type": "code",
      "metadata": {
        "id": "FubrVQWsNcs4"
      },
      "source": [
        "def data_split(df, target_value):\r\n",
        "  y = df[target_value].values\r\n",
        "  X = np.array(df.drop(target_value, axis = 1))\r\n",
        "  return X, y"
      ],
      "execution_count": 2,
      "outputs": []
    },
    {
      "cell_type": "markdown",
      "metadata": {
        "id": "NJEVuM8BOTmK"
      },
      "source": [
        "Функция масштабирует признаки"
      ]
    },
    {
      "cell_type": "code",
      "metadata": {
        "id": "uyKjXWQiNiC3"
      },
      "source": [
        "def data_scale(array):\r\n",
        "  return scale(np.array(array, dtype='float'), with_std=True, with_mean=True)"
      ],
      "execution_count": 3,
      "outputs": []
    },
    {
      "cell_type": "markdown",
      "metadata": {
        "id": "s_XM4mMtOWrh"
      },
      "source": [
        "Функция кодирует категориальные поля в датасете"
      ]
    },
    {
      "cell_type": "code",
      "metadata": {
        "id": "HSmzLUevNYHS"
      },
      "source": [
        "def number_encode_features(init_df):\r\n",
        "    result = init_df.copy() \r\n",
        "    encoders = {}\r\n",
        "    for column in result.columns:\r\n",
        "        if result.dtypes[column] == np.object:\r\n",
        "            encoders[column] = preprocessing.LabelEncoder()\r\n",
        "            result[column] = encoders[column].fit_transform(result[column])\r\n",
        "    return result, encoders"
      ],
      "execution_count": 4,
      "outputs": []
    },
    {
      "cell_type": "markdown",
      "metadata": {
        "id": "VYUp_TGtObpE"
      },
      "source": [
        "Следующие функции сохраняют и загружают модель"
      ]
    },
    {
      "cell_type": "code",
      "metadata": {
        "id": "JaoMjpd5Nnvu"
      },
      "source": [
        "PATH_TO_MODELS = \"/content/drive/MyDrive/dataset/models_data_test/\"\r\n",
        "\r\n",
        "def model_save(model, filename):\r\n",
        "  return joblib.dump(model, \"/content/drive/MyDrive/dataset/models_data_test/\" + filename + '.ml')\r\n",
        "  #return joblib.dump(model, \"D:/Desktop/ds/hw/final project/models_data_test/\" + filename + '.ml')"
      ],
      "execution_count": 5,
      "outputs": []
    },
    {
      "cell_type": "markdown",
      "metadata": {
        "id": "hAA2iHpfOQdD"
      },
      "source": [
        ""
      ]
    },
    {
      "cell_type": "code",
      "metadata": {
        "id": "m2SwBdWqNujI"
      },
      "source": [
        "def model_load(filename):\r\n",
        "  return joblib.load(\"/content/drive/MyDrive/dataset/models_data_test/\" + filename + '.ml')\r\n",
        "  #return joblib.load(\"D:/Desktop/ds/hw/final project/models_data_test/\" + filename + '.ml')"
      ],
      "execution_count": 6,
      "outputs": []
    },
    {
      "cell_type": "code",
      "metadata": {
        "id": "pouTEgzTP6Hv"
      },
      "source": [
        "def is_model_data_exist(filename):\r\n",
        "  return os.path.isfile(PATH_TO_MODELS + filename + '.ml')"
      ],
      "execution_count": 7,
      "outputs": []
    },
    {
      "cell_type": "markdown",
      "metadata": {
        "id": "Farq3ClyOg7l"
      },
      "source": [
        "Функция производит поиск параметров для модели"
      ]
    },
    {
      "cell_type": "code",
      "metadata": {
        "id": "vLSE8cIiOI97"
      },
      "source": [
        "def find_parameters(model_type, grid, x_train, y_train, cv=5):\r\n",
        "  gs = GridSearchCV(estimator = model_type, param_grid = grid, cv = cv)\r\n",
        "  gs.fit(x_train, y_train)\r\n",
        "\r\n",
        "  return gs"
      ],
      "execution_count": 8,
      "outputs": []
    },
    {
      "cell_type": "markdown",
      "metadata": {
        "id": "A-M3ipP3sJWV"
      },
      "source": [
        "##### Монтируем папку гугл grive"
      ]
    },
    {
      "cell_type": "code",
      "metadata": {
        "id": "SPPApuaLhYyy"
      },
      "source": [
        "drive.mount('/content/drive')"
      ],
      "execution_count": 9,
      "outputs": []
    },
    {
      "cell_type": "markdown",
      "metadata": {
        "id": "pvnOnsNqsKu8"
      },
      "source": [
        "##### Загружаем датасет"
      ]
    },
    {
      "cell_type": "markdown",
      "metadata": {
        "id": "h8OskqzqH1Lb"
      },
      "source": [
        "Для проекта будет использоваться только часть данных, т.к. использование полных данных приводит к очень длительному времени обучения моделей и подбора параметров моделей"
      ]
    },
    {
      "cell_type": "code",
      "metadata": {
        "colab": {
          "base_uri": "https://localhost:8080/"
        },
        "id": "z3vJ12boeYi5",
        "outputId": "71756dec-927c-4b87-c760-e659ed7258b0"
      },
      "source": [
        "%%time\r\n",
        "df_orig = pd.read_csv(os.path.abspath(\"/content/drive/MyDrive/dataset/dataset.csv\"), nrows = 1500000)\r\n",
        "#df_orig = pd.read_csv(os.path.abspath(\"D:/Desktop/ds/hw/final project/dataset/PS_20174392719_1491204439457_log.csv\"), nrows = 1500000)"
      ],
      "execution_count": 10,
      "outputs": [
        {
          "output_type": "stream",
          "text": [
            "Wall time: 2.74 s\n"
          ],
          "name": "stdout"
        }
      ]
    },
    {
      "cell_type": "markdown",
      "metadata": {
        "id": "yiDWs5sDib6v"
      },
      "source": [
        "Описание признаков:\r\n",
        "type - тип транзакции (PAYMENT, TRANSFER, CASH_OUT, CASH_IN, DEBIT)\r\n",
        "\r\n",
        "amount - сумма транзакции\r\n",
        "\r\n",
        "nameOrig - идентификатор клиента\r\n",
        "\r\n",
        "oldbalanceOrg - начальный баланс до транзакции\r\n",
        "\r\n",
        "newbalanceOrig - новый баланс после транзакции\r\n",
        "\r\n",
        "nameDest - клиент получатель\r\n",
        "\r\n",
        "oldbalanceDest - баланс получателя до транзакции\r\n",
        "\r\n",
        "newbalanceDest - баланс получателя после транзакции\r\n",
        "\r\n",
        "isFraud - мошенническая транзакция или нет\r\n",
        "\r\n",
        "isFlaggedFraud - бизнес-модель направлена ​​на контроль массовых переводов с одной учетной записи на другую и выявление незаконных попыток. Незаконная попытка в этом наборе данных - это попытка передать более 200 000 за одну транзакцию."
      ]
    },
    {
      "cell_type": "markdown",
      "metadata": {
        "id": "Hh7hW_FOWW98"
      },
      "source": [
        "# Анализ данных"
      ]
    },
    {
      "cell_type": "markdown",
      "metadata": {
        "id": "pt74vHOKjafY"
      },
      "source": [
        "Проверим, корректно ли загрузились данные"
      ]
    },
    {
      "cell_type": "code",
      "metadata": {
        "colab": {
          "base_uri": "https://localhost:8080/",
          "height": 359
        },
        "id": "wvf5j-A8ekFQ",
        "outputId": "5191e174-4d7f-4adc-a1b7-48a77d7c612b"
      },
      "source": [
        "df_orig.head(10)"
      ],
      "execution_count": 11,
      "outputs": [
        {
          "output_type": "execute_result",
          "data": {
            "text/plain": [
              "   step      type    amount     nameOrig  oldbalanceOrg  newbalanceOrig  \\\n",
              "0     1   PAYMENT   9839.64  C1231006815      170136.00       160296.36   \n",
              "1     1   PAYMENT   1864.28  C1666544295       21249.00        19384.72   \n",
              "2     1  TRANSFER    181.00  C1305486145         181.00            0.00   \n",
              "3     1  CASH_OUT    181.00   C840083671         181.00            0.00   \n",
              "4     1   PAYMENT  11668.14  C2048537720       41554.00        29885.86   \n",
              "5     1   PAYMENT   7817.71    C90045638       53860.00        46042.29   \n",
              "6     1   PAYMENT   7107.77   C154988899      183195.00       176087.23   \n",
              "7     1   PAYMENT   7861.64  C1912850431      176087.23       168225.59   \n",
              "8     1   PAYMENT   4024.36  C1265012928        2671.00            0.00   \n",
              "9     1     DEBIT   5337.77   C712410124       41720.00        36382.23   \n",
              "\n",
              "      nameDest  oldbalanceDest  newbalanceDest  isFraud  isFlaggedFraud  \n",
              "0  M1979787155             0.0            0.00        0               0  \n",
              "1  M2044282225             0.0            0.00        0               0  \n",
              "2   C553264065             0.0            0.00        1               0  \n",
              "3    C38997010         21182.0            0.00        1               0  \n",
              "4  M1230701703             0.0            0.00        0               0  \n",
              "5   M573487274             0.0            0.00        0               0  \n",
              "6   M408069119             0.0            0.00        0               0  \n",
              "7   M633326333             0.0            0.00        0               0  \n",
              "8  M1176932104             0.0            0.00        0               0  \n",
              "9   C195600860         41898.0        40348.79        0               0  "
            ],
            "text/html": [
              "<div>\n",
              "<style scoped>\n",
              "    .dataframe tbody tr th:only-of-type {\n",
              "        vertical-align: middle;\n",
              "    }\n",
              "\n",
              "    .dataframe tbody tr th {\n",
              "        vertical-align: top;\n",
              "    }\n",
              "\n",
              "    .dataframe thead th {\n",
              "        text-align: right;\n",
              "    }\n",
              "</style>\n",
              "<table border=\"1\" class=\"dataframe\">\n",
              "  <thead>\n",
              "    <tr style=\"text-align: right;\">\n",
              "      <th></th>\n",
              "      <th>step</th>\n",
              "      <th>type</th>\n",
              "      <th>amount</th>\n",
              "      <th>nameOrig</th>\n",
              "      <th>oldbalanceOrg</th>\n",
              "      <th>newbalanceOrig</th>\n",
              "      <th>nameDest</th>\n",
              "      <th>oldbalanceDest</th>\n",
              "      <th>newbalanceDest</th>\n",
              "      <th>isFraud</th>\n",
              "      <th>isFlaggedFraud</th>\n",
              "    </tr>\n",
              "  </thead>\n",
              "  <tbody>\n",
              "    <tr>\n",
              "      <th>0</th>\n",
              "      <td>1</td>\n",
              "      <td>PAYMENT</td>\n",
              "      <td>9839.64</td>\n",
              "      <td>C1231006815</td>\n",
              "      <td>170136.00</td>\n",
              "      <td>160296.36</td>\n",
              "      <td>M1979787155</td>\n",
              "      <td>0.0</td>\n",
              "      <td>0.00</td>\n",
              "      <td>0</td>\n",
              "      <td>0</td>\n",
              "    </tr>\n",
              "    <tr>\n",
              "      <th>1</th>\n",
              "      <td>1</td>\n",
              "      <td>PAYMENT</td>\n",
              "      <td>1864.28</td>\n",
              "      <td>C1666544295</td>\n",
              "      <td>21249.00</td>\n",
              "      <td>19384.72</td>\n",
              "      <td>M2044282225</td>\n",
              "      <td>0.0</td>\n",
              "      <td>0.00</td>\n",
              "      <td>0</td>\n",
              "      <td>0</td>\n",
              "    </tr>\n",
              "    <tr>\n",
              "      <th>2</th>\n",
              "      <td>1</td>\n",
              "      <td>TRANSFER</td>\n",
              "      <td>181.00</td>\n",
              "      <td>C1305486145</td>\n",
              "      <td>181.00</td>\n",
              "      <td>0.00</td>\n",
              "      <td>C553264065</td>\n",
              "      <td>0.0</td>\n",
              "      <td>0.00</td>\n",
              "      <td>1</td>\n",
              "      <td>0</td>\n",
              "    </tr>\n",
              "    <tr>\n",
              "      <th>3</th>\n",
              "      <td>1</td>\n",
              "      <td>CASH_OUT</td>\n",
              "      <td>181.00</td>\n",
              "      <td>C840083671</td>\n",
              "      <td>181.00</td>\n",
              "      <td>0.00</td>\n",
              "      <td>C38997010</td>\n",
              "      <td>21182.0</td>\n",
              "      <td>0.00</td>\n",
              "      <td>1</td>\n",
              "      <td>0</td>\n",
              "    </tr>\n",
              "    <tr>\n",
              "      <th>4</th>\n",
              "      <td>1</td>\n",
              "      <td>PAYMENT</td>\n",
              "      <td>11668.14</td>\n",
              "      <td>C2048537720</td>\n",
              "      <td>41554.00</td>\n",
              "      <td>29885.86</td>\n",
              "      <td>M1230701703</td>\n",
              "      <td>0.0</td>\n",
              "      <td>0.00</td>\n",
              "      <td>0</td>\n",
              "      <td>0</td>\n",
              "    </tr>\n",
              "    <tr>\n",
              "      <th>5</th>\n",
              "      <td>1</td>\n",
              "      <td>PAYMENT</td>\n",
              "      <td>7817.71</td>\n",
              "      <td>C90045638</td>\n",
              "      <td>53860.00</td>\n",
              "      <td>46042.29</td>\n",
              "      <td>M573487274</td>\n",
              "      <td>0.0</td>\n",
              "      <td>0.00</td>\n",
              "      <td>0</td>\n",
              "      <td>0</td>\n",
              "    </tr>\n",
              "    <tr>\n",
              "      <th>6</th>\n",
              "      <td>1</td>\n",
              "      <td>PAYMENT</td>\n",
              "      <td>7107.77</td>\n",
              "      <td>C154988899</td>\n",
              "      <td>183195.00</td>\n",
              "      <td>176087.23</td>\n",
              "      <td>M408069119</td>\n",
              "      <td>0.0</td>\n",
              "      <td>0.00</td>\n",
              "      <td>0</td>\n",
              "      <td>0</td>\n",
              "    </tr>\n",
              "    <tr>\n",
              "      <th>7</th>\n",
              "      <td>1</td>\n",
              "      <td>PAYMENT</td>\n",
              "      <td>7861.64</td>\n",
              "      <td>C1912850431</td>\n",
              "      <td>176087.23</td>\n",
              "      <td>168225.59</td>\n",
              "      <td>M633326333</td>\n",
              "      <td>0.0</td>\n",
              "      <td>0.00</td>\n",
              "      <td>0</td>\n",
              "      <td>0</td>\n",
              "    </tr>\n",
              "    <tr>\n",
              "      <th>8</th>\n",
              "      <td>1</td>\n",
              "      <td>PAYMENT</td>\n",
              "      <td>4024.36</td>\n",
              "      <td>C1265012928</td>\n",
              "      <td>2671.00</td>\n",
              "      <td>0.00</td>\n",
              "      <td>M1176932104</td>\n",
              "      <td>0.0</td>\n",
              "      <td>0.00</td>\n",
              "      <td>0</td>\n",
              "      <td>0</td>\n",
              "    </tr>\n",
              "    <tr>\n",
              "      <th>9</th>\n",
              "      <td>1</td>\n",
              "      <td>DEBIT</td>\n",
              "      <td>5337.77</td>\n",
              "      <td>C712410124</td>\n",
              "      <td>41720.00</td>\n",
              "      <td>36382.23</td>\n",
              "      <td>C195600860</td>\n",
              "      <td>41898.0</td>\n",
              "      <td>40348.79</td>\n",
              "      <td>0</td>\n",
              "      <td>0</td>\n",
              "    </tr>\n",
              "  </tbody>\n",
              "</table>\n",
              "</div>"
            ]
          },
          "metadata": {
            "tags": []
          },
          "execution_count": 11
        }
      ]
    },
    {
      "cell_type": "markdown",
      "metadata": {
        "id": "k2xyHfw35H-g"
      },
      "source": [
        "Посмотрим количество строк и столбцов"
      ]
    },
    {
      "cell_type": "code",
      "metadata": {
        "colab": {
          "base_uri": "https://localhost:8080/"
        },
        "id": "fxsiXDWqiG2Z",
        "outputId": "cfb2cfb0-ad34-453c-f4ff-9a815b7863fa"
      },
      "source": [
        "df_orig.shape"
      ],
      "execution_count": 12,
      "outputs": [
        {
          "output_type": "execute_result",
          "data": {
            "text/plain": [
              "(1500000, 11)"
            ]
          },
          "metadata": {
            "tags": []
          },
          "execution_count": 12
        }
      ]
    },
    {
      "cell_type": "markdown",
      "metadata": {
        "id": "YqVpet6xjpfg"
      },
      "source": [
        "Посмотрим на стандартную статистику"
      ]
    },
    {
      "cell_type": "code",
      "metadata": {
        "colab": {
          "base_uri": "https://localhost:8080/",
          "height": 297
        },
        "id": "hRoP9QxhjmHP",
        "outputId": "eed679b4-ef5a-4f4e-e9a6-61af02efd948"
      },
      "source": [
        "df_orig.describe()"
      ],
      "execution_count": 13,
      "outputs": [
        {
          "output_type": "execute_result",
          "data": {
            "text/plain": [
              "               step        amount  oldbalanceOrg  newbalanceOrig  \\\n",
              "count  1.500000e+06  1.500000e+06   1.500000e+06    1.500000e+06   \n",
              "mean   5.915070e+01  1.608296e+05   8.674607e+05    8.882571e+05   \n",
              "std    5.092537e+01  2.676604e+05   2.951755e+06    2.988126e+06   \n",
              "min    1.000000e+00  1.000000e-01   0.000000e+00    0.000000e+00   \n",
              "25%    1.700000e+01  1.298844e+04   0.000000e+00    0.000000e+00   \n",
              "50%    3.800000e+01  7.802889e+04   1.528600e+04    0.000000e+00   \n",
              "75%    1.300000e+02  2.162310e+05   1.257779e+05    1.670238e+05   \n",
              "max    1.430000e+02  1.000000e+07   3.893942e+07    3.894623e+07   \n",
              "\n",
              "       oldbalanceDest  newbalanceDest       isFraud  isFlaggedFraud  \n",
              "count    1.500000e+06    1.500000e+06  1.500000e+06       1500000.0  \n",
              "mean     9.893854e+05    1.114852e+06  1.072000e-03             0.0  \n",
              "std      2.301935e+06    2.406376e+06  3.272387e-02             0.0  \n",
              "min      0.000000e+00    0.000000e+00  0.000000e+00             0.0  \n",
              "25%      0.000000e+00    0.000000e+00  0.000000e+00             0.0  \n",
              "50%      1.336265e+05    2.244404e+05  0.000000e+00             0.0  \n",
              "75%      9.364515e+05    1.152679e+06  0.000000e+00             0.0  \n",
              "max      4.220740e+07    4.220740e+07  1.000000e+00             0.0  "
            ],
            "text/html": [
              "<div>\n",
              "<style scoped>\n",
              "    .dataframe tbody tr th:only-of-type {\n",
              "        vertical-align: middle;\n",
              "    }\n",
              "\n",
              "    .dataframe tbody tr th {\n",
              "        vertical-align: top;\n",
              "    }\n",
              "\n",
              "    .dataframe thead th {\n",
              "        text-align: right;\n",
              "    }\n",
              "</style>\n",
              "<table border=\"1\" class=\"dataframe\">\n",
              "  <thead>\n",
              "    <tr style=\"text-align: right;\">\n",
              "      <th></th>\n",
              "      <th>step</th>\n",
              "      <th>amount</th>\n",
              "      <th>oldbalanceOrg</th>\n",
              "      <th>newbalanceOrig</th>\n",
              "      <th>oldbalanceDest</th>\n",
              "      <th>newbalanceDest</th>\n",
              "      <th>isFraud</th>\n",
              "      <th>isFlaggedFraud</th>\n",
              "    </tr>\n",
              "  </thead>\n",
              "  <tbody>\n",
              "    <tr>\n",
              "      <th>count</th>\n",
              "      <td>1.500000e+06</td>\n",
              "      <td>1.500000e+06</td>\n",
              "      <td>1.500000e+06</td>\n",
              "      <td>1.500000e+06</td>\n",
              "      <td>1.500000e+06</td>\n",
              "      <td>1.500000e+06</td>\n",
              "      <td>1.500000e+06</td>\n",
              "      <td>1500000.0</td>\n",
              "    </tr>\n",
              "    <tr>\n",
              "      <th>mean</th>\n",
              "      <td>5.915070e+01</td>\n",
              "      <td>1.608296e+05</td>\n",
              "      <td>8.674607e+05</td>\n",
              "      <td>8.882571e+05</td>\n",
              "      <td>9.893854e+05</td>\n",
              "      <td>1.114852e+06</td>\n",
              "      <td>1.072000e-03</td>\n",
              "      <td>0.0</td>\n",
              "    </tr>\n",
              "    <tr>\n",
              "      <th>std</th>\n",
              "      <td>5.092537e+01</td>\n",
              "      <td>2.676604e+05</td>\n",
              "      <td>2.951755e+06</td>\n",
              "      <td>2.988126e+06</td>\n",
              "      <td>2.301935e+06</td>\n",
              "      <td>2.406376e+06</td>\n",
              "      <td>3.272387e-02</td>\n",
              "      <td>0.0</td>\n",
              "    </tr>\n",
              "    <tr>\n",
              "      <th>min</th>\n",
              "      <td>1.000000e+00</td>\n",
              "      <td>1.000000e-01</td>\n",
              "      <td>0.000000e+00</td>\n",
              "      <td>0.000000e+00</td>\n",
              "      <td>0.000000e+00</td>\n",
              "      <td>0.000000e+00</td>\n",
              "      <td>0.000000e+00</td>\n",
              "      <td>0.0</td>\n",
              "    </tr>\n",
              "    <tr>\n",
              "      <th>25%</th>\n",
              "      <td>1.700000e+01</td>\n",
              "      <td>1.298844e+04</td>\n",
              "      <td>0.000000e+00</td>\n",
              "      <td>0.000000e+00</td>\n",
              "      <td>0.000000e+00</td>\n",
              "      <td>0.000000e+00</td>\n",
              "      <td>0.000000e+00</td>\n",
              "      <td>0.0</td>\n",
              "    </tr>\n",
              "    <tr>\n",
              "      <th>50%</th>\n",
              "      <td>3.800000e+01</td>\n",
              "      <td>7.802889e+04</td>\n",
              "      <td>1.528600e+04</td>\n",
              "      <td>0.000000e+00</td>\n",
              "      <td>1.336265e+05</td>\n",
              "      <td>2.244404e+05</td>\n",
              "      <td>0.000000e+00</td>\n",
              "      <td>0.0</td>\n",
              "    </tr>\n",
              "    <tr>\n",
              "      <th>75%</th>\n",
              "      <td>1.300000e+02</td>\n",
              "      <td>2.162310e+05</td>\n",
              "      <td>1.257779e+05</td>\n",
              "      <td>1.670238e+05</td>\n",
              "      <td>9.364515e+05</td>\n",
              "      <td>1.152679e+06</td>\n",
              "      <td>0.000000e+00</td>\n",
              "      <td>0.0</td>\n",
              "    </tr>\n",
              "    <tr>\n",
              "      <th>max</th>\n",
              "      <td>1.430000e+02</td>\n",
              "      <td>1.000000e+07</td>\n",
              "      <td>3.893942e+07</td>\n",
              "      <td>3.894623e+07</td>\n",
              "      <td>4.220740e+07</td>\n",
              "      <td>4.220740e+07</td>\n",
              "      <td>1.000000e+00</td>\n",
              "      <td>0.0</td>\n",
              "    </tr>\n",
              "  </tbody>\n",
              "</table>\n",
              "</div>"
            ]
          },
          "metadata": {
            "tags": []
          },
          "execution_count": 13
        }
      ]
    },
    {
      "cell_type": "markdown",
      "metadata": {
        "id": "t1uBl9SwFXqt"
      },
      "source": [
        "Никакой интересной информации это нам не дало. Идем дальше"
      ]
    },
    {
      "cell_type": "markdown",
      "metadata": {
        "id": "eE5F6ppHsQ6k"
      },
      "source": [
        "Проверим, есть ли пропуски в данных"
      ]
    },
    {
      "cell_type": "code",
      "metadata": {
        "colab": {
          "base_uri": "https://localhost:8080/"
        },
        "id": "K_ZkjO1bkNYP",
        "outputId": "3ea85719-3af6-4056-8bd4-9f1f9a2169cc"
      },
      "source": [
        "df_orig.isnull().any()"
      ],
      "execution_count": 14,
      "outputs": [
        {
          "output_type": "execute_result",
          "data": {
            "text/plain": [
              "step              False\n",
              "type              False\n",
              "amount            False\n",
              "nameOrig          False\n",
              "oldbalanceOrg     False\n",
              "newbalanceOrig    False\n",
              "nameDest          False\n",
              "oldbalanceDest    False\n",
              "newbalanceDest    False\n",
              "isFraud           False\n",
              "isFlaggedFraud    False\n",
              "dtype: bool"
            ]
          },
          "metadata": {
            "tags": []
          },
          "execution_count": 14
        }
      ]
    },
    {
      "cell_type": "markdown",
      "metadata": {
        "id": "jGnJ3_HdkPQg"
      },
      "source": [
        "Отлично, пропусков нет"
      ]
    },
    {
      "cell_type": "markdown",
      "metadata": {
        "id": "yoSYc3TKFgfU"
      },
      "source": [
        "Проверим, какие типы данных есть в датасете"
      ]
    },
    {
      "cell_type": "code",
      "metadata": {
        "colab": {
          "base_uri": "https://localhost:8080/"
        },
        "id": "uP33_d7jkUR3",
        "outputId": "ee5fe292-8caa-4cb0-ae03-d2ff735126cd"
      },
      "source": [
        "df_orig.dtypes"
      ],
      "execution_count": 15,
      "outputs": [
        {
          "output_type": "execute_result",
          "data": {
            "text/plain": [
              "step                int64\n",
              "type               object\n",
              "amount            float64\n",
              "nameOrig           object\n",
              "oldbalanceOrg     float64\n",
              "newbalanceOrig    float64\n",
              "nameDest           object\n",
              "oldbalanceDest    float64\n",
              "newbalanceDest    float64\n",
              "isFraud             int64\n",
              "isFlaggedFraud      int64\n",
              "dtype: object"
            ]
          },
          "metadata": {
            "tags": []
          },
          "execution_count": 15
        }
      ]
    },
    {
      "cell_type": "markdown",
      "metadata": {
        "id": "NbuVtYeEYNMn"
      },
      "source": [
        "Посмотрим, какие типы транзакций присутствуют в датасете\r\n"
      ]
    },
    {
      "cell_type": "code",
      "metadata": {
        "colab": {
          "base_uri": "https://localhost:8080/"
        },
        "id": "wRyg6Cm1Rvki",
        "outputId": "03eac48a-0dde-4cef-c563-1534d37121f6"
      },
      "source": [
        "df_orig['type'].unique()"
      ],
      "execution_count": 16,
      "outputs": [
        {
          "output_type": "execute_result",
          "data": {
            "text/plain": [
              "array(['PAYMENT', 'TRANSFER', 'CASH_OUT', 'DEBIT', 'CASH_IN'],\n",
              "      dtype=object)"
            ]
          },
          "metadata": {
            "tags": []
          },
          "execution_count": 16
        }
      ]
    },
    {
      "cell_type": "markdown",
      "metadata": {
        "id": "3pEtUWaLsWe0"
      },
      "source": [
        "Посмотрим на распределение признаков"
      ]
    },
    {
      "cell_type": "code",
      "metadata": {
        "colab": {
          "base_uri": "https://localhost:8080/",
          "height": 831
        },
        "id": "vf33ryrylSPw",
        "outputId": "ad37ff93-074d-4693-ddd1-83a0cbaff3b4"
      },
      "source": [
        "df_orig.hist(figsize=(22,11), xlabelsize = 8, ylabelsize = 8, bins = 20)"
      ],
      "execution_count": 17,
      "outputs": [
        {
          "output_type": "execute_result",
          "data": {
            "text/plain": [
              "array([[<matplotlib.axes._subplots.AxesSubplot object at 0x0000018090CD5610>,\n",
              "        <matplotlib.axes._subplots.AxesSubplot object at 0x0000018090D21AC0>,\n",
              "        <matplotlib.axes._subplots.AxesSubplot object at 0x0000018090D51F40>],\n",
              "       [<matplotlib.axes._subplots.AxesSubplot object at 0x0000018090D893D0>,\n",
              "        <matplotlib.axes._subplots.AxesSubplot object at 0x0000018090DB5820>,\n",
              "        <matplotlib.axes._subplots.AxesSubplot object at 0x0000018090DE1BB0>],\n",
              "       [<matplotlib.axes._subplots.AxesSubplot object at 0x0000018090DE1CA0>,\n",
              "        <matplotlib.axes._subplots.AxesSubplot object at 0x0000018090E1B1C0>,\n",
              "        <matplotlib.axes._subplots.AxesSubplot object at 0x0000018096A83910>]],\n",
              "      dtype=object)"
            ]
          },
          "metadata": {
            "tags": []
          },
          "execution_count": 17
        },
        {
          "output_type": "display_data",
          "data": {
            "text/plain": [
              "<Figure size 1584x792 with 9 Axes>"
            ],
            "image/png": "[encoded data removed]"
          },
          "metadata": {
            "tags": [],
            "needs_background": "light"
          }
        }
      ]
    },
    {
      "cell_type": "markdown",
      "metadata": {
        "id": "MzISaEtlsZWr"
      },
      "source": [
        "Некоторые не числовые признаки не вошли в график. Посмотрим их отдельно\r\n",
        "\r\n",
        "Распределение по типам транзакций"
      ]
    },
    {
      "cell_type": "code",
      "metadata": {
        "colab": {
          "base_uri": "https://localhost:8080/",
          "height": 465
        },
        "id": "rWirr12fm8Ml",
        "outputId": "0d8621ce-bf88-40d8-c3ea-c2b8c36d8012"
      },
      "source": [
        "df_orig.groupby('type')['type'].count().plot.bar(\r\n",
        "    figsize = (12,6),\r\n",
        "    title = 'Распределение транзакций по типам',\r\n",
        "    xlabel = 'Тип транзакции',\r\n",
        "    ylabel = 'Количество')"
      ],
      "execution_count": 18,
      "outputs": [
        {
          "output_type": "execute_result",
          "data": {
            "text/plain": [
              "<matplotlib.axes._subplots.AxesSubplot at 0x180913f8100>"
            ]
          },
          "metadata": {
            "tags": []
          },
          "execution_count": 18
        },
        {
          "output_type": "display_data",
          "data": {
            "text/plain": [
              "<Figure size 864x432 with 1 Axes>"
            ],
            "image/png": "[encoded data removed]"
          },
          "metadata": {
            "tags": [],
            "needs_background": "light"
          }
        }
      ]
    },
    {
      "cell_type": "markdown",
      "metadata": {
        "id": "doA2VyB7sciN"
      },
      "source": [
        "Посмотрим на количество мошеннических тразнакций"
      ]
    },
    {
      "cell_type": "code",
      "metadata": {
        "colab": {
          "base_uri": "https://localhost:8080/"
        },
        "id": "X9Jnz3pmnq20",
        "outputId": "e9235ae1-64a6-44fa-b375-786684202d6c"
      },
      "source": [
        "df_orig.groupby('isFraud')['isFraud'].count()"
      ],
      "execution_count": 19,
      "outputs": [
        {
          "output_type": "execute_result",
          "data": {
            "text/plain": [
              "isFraud\n",
              "0    1498392\n",
              "1       1608\n",
              "Name: isFraud, dtype: int64"
            ]
          },
          "metadata": {
            "tags": []
          },
          "execution_count": 19
        }
      ]
    },
    {
      "cell_type": "code",
      "metadata": {
        "colab": {
          "base_uri": "https://localhost:8080/",
          "height": 429
        },
        "id": "-dVQ8cqznYmH",
        "outputId": "7f0f200d-b6b4-4b93-ab85-8ac8fa5eed17"
      },
      "source": [
        "df_orig.groupby('isFraud')['isFraud'].count().plot.bar(figsize = (12,6),\r\n",
        "                                                       title = 'Распределение транзакций по признаку мошенничества',\r\n",
        "                                                       xlabel = '1 мошенническая транзакция\\n0 - нормальная транзакция',\r\n",
        "                                                       ylabel = 'Количество')"
      ],
      "execution_count": 20,
      "outputs": [
        {
          "output_type": "execute_result",
          "data": {
            "text/plain": [
              "<matplotlib.axes._subplots.AxesSubplot at 0x180917b24f0>"
            ]
          },
          "metadata": {
            "tags": []
          },
          "execution_count": 20
        },
        {
          "output_type": "display_data",
          "data": {
            "text/plain": [
              "<Figure size 864x432 with 1 Axes>"
            ],
            "image/png": "[encoded data removed]"
          },
          "metadata": {
            "tags": [],
            "needs_background": "light"
          }
        }
      ]
    },
    {
      "cell_type": "markdown",
      "metadata": {
        "id": "4-Zcdz-dtSaL"
      },
      "source": [
        "Мы видим, что количество мошеннических транзакций очень мало по сравнению с нормальными транзакциями. Датасет очень несбалансированный"
      ]
    },
    {
      "cell_type": "markdown",
      "metadata": {
        "id": "rryMqeYDsrqU"
      },
      "source": [
        "Распределение мошеннических транзакций по типам"
      ]
    },
    {
      "cell_type": "code",
      "metadata": {
        "id": "fbpxnaJcsfYK"
      },
      "source": [
        "df_fraud = df_orig[df_orig['isFraud'] == 1]"
      ],
      "execution_count": 21,
      "outputs": []
    },
    {
      "cell_type": "code",
      "metadata": {
        "colab": {
          "base_uri": "https://localhost:8080/",
          "height": 465
        },
        "id": "HSKfehqaslfr",
        "outputId": "764c5e09-6e01-40de-8c37-8308d6feb25f"
      },
      "source": [
        "df_fraud.groupby('type')['type'].count().plot.bar(figsize = (12,6),\r\n",
        "                                                  title = 'Распределение мошеннических транзакий по типам',\r\n",
        "                                                  xlabel = 'Тип тразакции',\r\n",
        "                                                  ylabel = 'Количество')"
      ],
      "execution_count": 22,
      "outputs": [
        {
          "output_type": "execute_result",
          "data": {
            "text/plain": [
              "<matplotlib.axes._subplots.AxesSubplot at 0x18091806d90>"
            ]
          },
          "metadata": {
            "tags": []
          },
          "execution_count": 22
        },
        {
          "output_type": "display_data",
          "data": {
            "text/plain": [
              "<Figure size 864x432 with 1 Axes>"
            ],
            "image/png": "[encoded data removed]"
          },
          "metadata": {
            "tags": [],
            "needs_background": "light"
          }
        }
      ]
    },
    {
      "cell_type": "markdown",
      "metadata": {
        "id": "5O9wG7t0svqL"
      },
      "source": [
        "Мы видим, что мошенничество происходило только по двум типам операций: CASH OUT и TRANSFER"
      ]
    },
    {
      "cell_type": "markdown",
      "metadata": {
        "id": "a5OkxDC-77Gz"
      },
      "source": [
        "Посмотриv как между собой коррелируют признаки"
      ]
    },
    {
      "cell_type": "code",
      "metadata": {
        "colab": {
          "base_uri": "https://localhost:8080/",
          "height": 620
        },
        "id": "-S11sW_Yazku",
        "outputId": "b22f96d1-9fac-470b-928d-a4591f48b74a"
      },
      "source": [
        "plt.subplots(figsize=(10,10))\r\n",
        "sns.heatmap(df_orig.corr(), square=True)\r\n",
        "plt.title('Корреляция признаков')\r\n",
        "plt.show()"
      ],
      "execution_count": 23,
      "outputs": [
        {
          "output_type": "display_data",
          "data": {
            "text/plain": [
              "<Figure size 720x720 with 2 Axes>"
            ],
            "image/png": "[encoded data removed]"
          },
          "metadata": {
            "tags": [],
            "needs_background": "light"
          }
        }
      ]
    },
    {
      "cell_type": "markdown",
      "metadata": {
        "id": "FBW1ZBkUbgYz"
      },
      "source": [
        "Мы видим корреляцию newBalanceOrig с oldBalanceOrg, и newbalanceDest с oldBalanceDest. Сначала попробуем обучить модель с этими признаками. Потом удалим их и сравним результаты. "
      ]
    },
    {
      "cell_type": "markdown",
      "metadata": {
        "id": "Le98Ng9EblC_"
      },
      "source": [
        "# Подготовка данных"
      ]
    },
    {
      "cell_type": "markdown",
      "metadata": {
        "id": "oJfqITuNbsyZ"
      },
      "source": [
        "Для начала удалим ненужные столбцы. У нас это имена клиентов и Step"
      ]
    },
    {
      "cell_type": "code",
      "metadata": {
        "id": "14Dm93lFb1X8"
      },
      "source": [
        "df_drop = df_orig.drop(['nameOrig', 'nameDest', 'step'], axis = 1)"
      ],
      "execution_count": 24,
      "outputs": []
    },
    {
      "cell_type": "code",
      "metadata": {
        "colab": {
          "base_uri": "https://localhost:8080/",
          "height": 419
        },
        "id": "xyCUedA-cMyA",
        "outputId": "a761b734-5613-4867-9f6c-3cf0ffe9f85e"
      },
      "source": [
        "df_drop"
      ],
      "execution_count": 25,
      "outputs": [
        {
          "output_type": "execute_result",
          "data": {
            "text/plain": [
              "             type     amount  oldbalanceOrg  newbalanceOrig  oldbalanceDest  \\\n",
              "0         PAYMENT    9839.64      170136.00       160296.36            0.00   \n",
              "1         PAYMENT    1864.28       21249.00        19384.72            0.00   \n",
              "2        TRANSFER     181.00         181.00            0.00            0.00   \n",
              "3        CASH_OUT     181.00         181.00            0.00        21182.00   \n",
              "4         PAYMENT   11668.14       41554.00        29885.86            0.00   \n",
              "...           ...        ...            ...             ...             ...   \n",
              "1499995   PAYMENT   19785.10        3158.73            0.00            0.00   \n",
              "1499996  CASH_OUT  365830.64         595.00            0.00            0.00   \n",
              "1499997   PAYMENT   11252.75           0.00            0.00            0.00   \n",
              "1499998   PAYMENT    8493.33           0.00            0.00            0.00   \n",
              "1499999   CASH_IN  172331.41        1041.00       173372.41        24766.55   \n",
              "\n",
              "         newbalanceDest  isFraud  isFlaggedFraud  \n",
              "0                  0.00        0               0  \n",
              "1                  0.00        0               0  \n",
              "2                  0.00        1               0  \n",
              "3                  0.00        1               0  \n",
              "4                  0.00        0               0  \n",
              "...                 ...      ...             ...  \n",
              "1499995            0.00        0               0  \n",
              "1499996       365830.64        0               0  \n",
              "1499997            0.00        0               0  \n",
              "1499998            0.00        0               0  \n",
              "1499999            0.00        0               0  \n",
              "\n",
              "[1500000 rows x 8 columns]"
            ],
            "text/html": [
              "<div>\n",
              "<style scoped>\n",
              "    .dataframe tbody tr th:only-of-type {\n",
              "        vertical-align: middle;\n",
              "    }\n",
              "\n",
              "    .dataframe tbody tr th {\n",
              "        vertical-align: top;\n",
              "    }\n",
              "\n",
              "    .dataframe thead th {\n",
              "        text-align: right;\n",
              "    }\n",
              "</style>\n",
              "<table border=\"1\" class=\"dataframe\">\n",
              "  <thead>\n",
              "    <tr style=\"text-align: right;\">\n",
              "      <th></th>\n",
              "      <th>type</th>\n",
              "      <th>amount</th>\n",
              "      <th>oldbalanceOrg</th>\n",
              "      <th>newbalanceOrig</th>\n",
              "      <th>oldbalanceDest</th>\n",
              "      <th>newbalanceDest</th>\n",
              "      <th>isFraud</th>\n",
              "      <th>isFlaggedFraud</th>\n",
              "    </tr>\n",
              "  </thead>\n",
              "  <tbody>\n",
              "    <tr>\n",
              "      <th>0</th>\n",
              "      <td>PAYMENT</td>\n",
              "      <td>9839.64</td>\n",
              "      <td>170136.00</td>\n",
              "      <td>160296.36</td>\n",
              "      <td>0.00</td>\n",
              "      <td>0.00</td>\n",
              "      <td>0</td>\n",
              "      <td>0</td>\n",
              "    </tr>\n",
              "    <tr>\n",
              "      <th>1</th>\n",
              "      <td>PAYMENT</td>\n",
              "      <td>1864.28</td>\n",
              "      <td>21249.00</td>\n",
              "      <td>19384.72</td>\n",
              "      <td>0.00</td>\n",
              "      <td>0.00</td>\n",
              "      <td>0</td>\n",
              "      <td>0</td>\n",
              "    </tr>\n",
              "    <tr>\n",
              "      <th>2</th>\n",
              "      <td>TRANSFER</td>\n",
              "      <td>181.00</td>\n",
              "      <td>181.00</td>\n",
              "      <td>0.00</td>\n",
              "      <td>0.00</td>\n",
              "      <td>0.00</td>\n",
              "      <td>1</td>\n",
              "      <td>0</td>\n",
              "    </tr>\n",
              "    <tr>\n",
              "      <th>3</th>\n",
              "      <td>CASH_OUT</td>\n",
              "      <td>181.00</td>\n",
              "      <td>181.00</td>\n",
              "      <td>0.00</td>\n",
              "      <td>21182.00</td>\n",
              "      <td>0.00</td>\n",
              "      <td>1</td>\n",
              "      <td>0</td>\n",
              "    </tr>\n",
              "    <tr>\n",
              "      <th>4</th>\n",
              "      <td>PAYMENT</td>\n",
              "      <td>11668.14</td>\n",
              "      <td>41554.00</td>\n",
              "      <td>29885.86</td>\n",
              "      <td>0.00</td>\n",
              "      <td>0.00</td>\n",
              "      <td>0</td>\n",
              "      <td>0</td>\n",
              "    </tr>\n",
              "    <tr>\n",
              "      <th>...</th>\n",
              "      <td>...</td>\n",
              "      <td>...</td>\n",
              "      <td>...</td>\n",
              "      <td>...</td>\n",
              "      <td>...</td>\n",
              "      <td>...</td>\n",
              "      <td>...</td>\n",
              "      <td>...</td>\n",
              "    </tr>\n",
              "    <tr>\n",
              "      <th>1499995</th>\n",
              "      <td>PAYMENT</td>\n",
              "      <td>19785.10</td>\n",
              "      <td>3158.73</td>\n",
              "      <td>0.00</td>\n",
              "      <td>0.00</td>\n",
              "      <td>0.00</td>\n",
              "      <td>0</td>\n",
              "      <td>0</td>\n",
              "    </tr>\n",
              "    <tr>\n",
              "      <th>1499996</th>\n",
              "      <td>CASH_OUT</td>\n",
              "      <td>365830.64</td>\n",
              "      <td>595.00</td>\n",
              "      <td>0.00</td>\n",
              "      <td>0.00</td>\n",
              "      <td>365830.64</td>\n",
              "      <td>0</td>\n",
              "      <td>0</td>\n",
              "    </tr>\n",
              "    <tr>\n",
              "      <th>1499997</th>\n",
              "      <td>PAYMENT</td>\n",
              "      <td>11252.75</td>\n",
              "      <td>0.00</td>\n",
              "      <td>0.00</td>\n",
              "      <td>0.00</td>\n",
              "      <td>0.00</td>\n",
              "      <td>0</td>\n",
              "      <td>0</td>\n",
              "    </tr>\n",
              "    <tr>\n",
              "      <th>1499998</th>\n",
              "      <td>PAYMENT</td>\n",
              "      <td>8493.33</td>\n",
              "      <td>0.00</td>\n",
              "      <td>0.00</td>\n",
              "      <td>0.00</td>\n",
              "      <td>0.00</td>\n",
              "      <td>0</td>\n",
              "      <td>0</td>\n",
              "    </tr>\n",
              "    <tr>\n",
              "      <th>1499999</th>\n",
              "      <td>CASH_IN</td>\n",
              "      <td>172331.41</td>\n",
              "      <td>1041.00</td>\n",
              "      <td>173372.41</td>\n",
              "      <td>24766.55</td>\n",
              "      <td>0.00</td>\n",
              "      <td>0</td>\n",
              "      <td>0</td>\n",
              "    </tr>\n",
              "  </tbody>\n",
              "</table>\n",
              "<p>1500000 rows × 8 columns</p>\n",
              "</div>"
            ]
          },
          "metadata": {
            "tags": []
          },
          "execution_count": 25
        }
      ]
    },
    {
      "cell_type": "markdown",
      "metadata": {
        "id": "I5QvU3qndD7d"
      },
      "source": [
        "Далее закодируем строковые типы. Из таких у нас остался только столбец type"
      ]
    },
    {
      "cell_type": "code",
      "metadata": {
        "colab": {
          "base_uri": "https://localhost:8080/",
          "height": 204
        },
        "id": "FB1R7POjc9qM",
        "outputId": "2a0792a2-7fe3-4d90-eded-8fec7fc7fb84"
      },
      "source": [
        "df_encoded, encoders = number_encode_features(df_drop)\r\n",
        "df_encoded.head() "
      ],
      "execution_count": 26,
      "outputs": [
        {
          "output_type": "execute_result",
          "data": {
            "text/plain": [
              "   type    amount  oldbalanceOrg  newbalanceOrig  oldbalanceDest  \\\n",
              "0     3   9839.64       170136.0       160296.36             0.0   \n",
              "1     3   1864.28        21249.0        19384.72             0.0   \n",
              "2     4    181.00          181.0            0.00             0.0   \n",
              "3     1    181.00          181.0            0.00         21182.0   \n",
              "4     3  11668.14        41554.0        29885.86             0.0   \n",
              "\n",
              "   newbalanceDest  isFraud  isFlaggedFraud  \n",
              "0             0.0        0               0  \n",
              "1             0.0        0               0  \n",
              "2             0.0        1               0  \n",
              "3             0.0        1               0  \n",
              "4             0.0        0               0  "
            ],
            "text/html": [
              "<div>\n",
              "<style scoped>\n",
              "    .dataframe tbody tr th:only-of-type {\n",
              "        vertical-align: middle;\n",
              "    }\n",
              "\n",
              "    .dataframe tbody tr th {\n",
              "        vertical-align: top;\n",
              "    }\n",
              "\n",
              "    .dataframe thead th {\n",
              "        text-align: right;\n",
              "    }\n",
              "</style>\n",
              "<table border=\"1\" class=\"dataframe\">\n",
              "  <thead>\n",
              "    <tr style=\"text-align: right;\">\n",
              "      <th></th>\n",
              "      <th>type</th>\n",
              "      <th>amount</th>\n",
              "      <th>oldbalanceOrg</th>\n",
              "      <th>newbalanceOrig</th>\n",
              "      <th>oldbalanceDest</th>\n",
              "      <th>newbalanceDest</th>\n",
              "      <th>isFraud</th>\n",
              "      <th>isFlaggedFraud</th>\n",
              "    </tr>\n",
              "  </thead>\n",
              "  <tbody>\n",
              "    <tr>\n",
              "      <th>0</th>\n",
              "      <td>3</td>\n",
              "      <td>9839.64</td>\n",
              "      <td>170136.0</td>\n",
              "      <td>160296.36</td>\n",
              "      <td>0.0</td>\n",
              "      <td>0.0</td>\n",
              "      <td>0</td>\n",
              "      <td>0</td>\n",
              "    </tr>\n",
              "    <tr>\n",
              "      <th>1</th>\n",
              "      <td>3</td>\n",
              "      <td>1864.28</td>\n",
              "      <td>21249.0</td>\n",
              "      <td>19384.72</td>\n",
              "      <td>0.0</td>\n",
              "      <td>0.0</td>\n",
              "      <td>0</td>\n",
              "      <td>0</td>\n",
              "    </tr>\n",
              "    <tr>\n",
              "      <th>2</th>\n",
              "      <td>4</td>\n",
              "      <td>181.00</td>\n",
              "      <td>181.0</td>\n",
              "      <td>0.00</td>\n",
              "      <td>0.0</td>\n",
              "      <td>0.0</td>\n",
              "      <td>1</td>\n",
              "      <td>0</td>\n",
              "    </tr>\n",
              "    <tr>\n",
              "      <th>3</th>\n",
              "      <td>1</td>\n",
              "      <td>181.00</td>\n",
              "      <td>181.0</td>\n",
              "      <td>0.00</td>\n",
              "      <td>21182.0</td>\n",
              "      <td>0.0</td>\n",
              "      <td>1</td>\n",
              "      <td>0</td>\n",
              "    </tr>\n",
              "    <tr>\n",
              "      <th>4</th>\n",
              "      <td>3</td>\n",
              "      <td>11668.14</td>\n",
              "      <td>41554.0</td>\n",
              "      <td>29885.86</td>\n",
              "      <td>0.0</td>\n",
              "      <td>0.0</td>\n",
              "      <td>0</td>\n",
              "      <td>0</td>\n",
              "    </tr>\n",
              "  </tbody>\n",
              "</table>\n",
              "</div>"
            ]
          },
          "metadata": {
            "tags": []
          },
          "execution_count": 26
        }
      ]
    },
    {
      "cell_type": "code",
      "metadata": {
        "colab": {
          "base_uri": "https://localhost:8080/"
        },
        "id": "Zujzm-bldaC0",
        "outputId": "75f0cf3e-85ee-4448-b846-ce5a174ede8d"
      },
      "source": [
        "encoders"
      ],
      "execution_count": 27,
      "outputs": [
        {
          "output_type": "execute_result",
          "data": {
            "text/plain": [
              "{'type': LabelEncoder()}"
            ]
          },
          "metadata": {
            "tags": []
          },
          "execution_count": 27
        }
      ]
    },
    {
      "cell_type": "markdown",
      "metadata": {
        "id": "-pgtAjb6dp-m"
      },
      "source": [
        "Выделим целевую переменную в переменную y, остальные данные в переменную Х"
      ]
    },
    {
      "cell_type": "code",
      "metadata": {
        "id": "pMrUbGOKhGVz"
      },
      "source": [
        "X, y = data_split(df_encoded, 'isFraud')"
      ],
      "execution_count": 28,
      "outputs": []
    },
    {
      "cell_type": "code",
      "metadata": {
        "colab": {
          "base_uri": "https://localhost:8080/"
        },
        "id": "EAVnAORrhPrC",
        "outputId": "7121529f-e248-46f9-a46e-e577f7f64324"
      },
      "source": [
        "X"
      ],
      "execution_count": 29,
      "outputs": [
        {
          "output_type": "execute_result",
          "data": {
            "text/plain": [
              "array([[3.0000000e+00, 9.8396400e+03, 1.7013600e+05, ..., 0.0000000e+00,\n",
              "        0.0000000e+00, 0.0000000e+00],\n",
              "       [3.0000000e+00, 1.8642800e+03, 2.1249000e+04, ..., 0.0000000e+00,\n",
              "        0.0000000e+00, 0.0000000e+00],\n",
              "       [4.0000000e+00, 1.8100000e+02, 1.8100000e+02, ..., 0.0000000e+00,\n",
              "        0.0000000e+00, 0.0000000e+00],\n",
              "       ...,\n",
              "       [3.0000000e+00, 1.1252750e+04, 0.0000000e+00, ..., 0.0000000e+00,\n",
              "        0.0000000e+00, 0.0000000e+00],\n",
              "       [3.0000000e+00, 8.4933300e+03, 0.0000000e+00, ..., 0.0000000e+00,\n",
              "        0.0000000e+00, 0.0000000e+00],\n",
              "       [0.0000000e+00, 1.7233141e+05, 1.0410000e+03, ..., 2.4766550e+04,\n",
              "        0.0000000e+00, 0.0000000e+00]])"
            ]
          },
          "metadata": {
            "tags": []
          },
          "execution_count": 29
        }
      ]
    },
    {
      "cell_type": "code",
      "metadata": {
        "colab": {
          "base_uri": "https://localhost:8080/"
        },
        "id": "T2XmFV_fhY8y",
        "outputId": "00f957ca-8428-451d-d3be-56272d9983ed"
      },
      "source": [
        "y"
      ],
      "execution_count": 30,
      "outputs": [
        {
          "output_type": "execute_result",
          "data": {
            "text/plain": [
              "array([0, 0, 1, ..., 0, 0, 0], dtype=int64)"
            ]
          },
          "metadata": {
            "tags": []
          },
          "execution_count": 30
        }
      ]
    },
    {
      "cell_type": "markdown",
      "metadata": {
        "id": "Nyv3S-0ViurR"
      },
      "source": [
        "Нормализуем признаки"
      ]
    },
    {
      "cell_type": "code",
      "metadata": {
        "id": "Rg8Lg-qDhw0S"
      },
      "source": [
        "X = data_scale(X)"
      ],
      "execution_count": 31,
      "outputs": []
    },
    {
      "cell_type": "code",
      "metadata": {
        "colab": {
          "base_uri": "https://localhost:8080/"
        },
        "id": "i5c6flySh4YL",
        "outputId": "772a88bb-2088-4788-bfba-09f93d7e66f8"
      },
      "source": [
        "X"
      ],
      "execution_count": 32,
      "outputs": [
        {
          "output_type": "execute_result",
          "data": {
            "text/plain": [
              "array([[ 0.96187165, -0.5641106 , -0.23624083, ..., -0.42980605,\n",
              "        -0.46329104,  0.        ],\n",
              "       [ 0.96187165, -0.59390717, -0.28668102, ..., -0.42980605,\n",
              "        -0.46329104,  0.        ],\n",
              "       [ 1.70485038, -0.60019604, -0.29381847, ..., -0.42980605,\n",
              "        -0.46329104,  0.        ],\n",
              "       ...,\n",
              "       [ 0.96187165, -0.55883111, -0.29387979, ..., -0.42980605,\n",
              "        -0.46329104,  0.        ],\n",
              "       [ 0.96187165, -0.56914052, -0.29387979, ..., -0.42980605,\n",
              "        -0.46329104,  0.        ],\n",
              "       [-1.26706453,  0.04297152, -0.29352712, ..., -0.41904703,\n",
              "        -0.46329104,  0.        ]])"
            ]
          },
          "metadata": {
            "tags": []
          },
          "execution_count": 32
        }
      ]
    },
    {
      "cell_type": "markdown",
      "metadata": {
        "id": "90zBXDcsixEp"
      },
      "source": [
        "Разделим датасет на обучающую и тестовую выборку"
      ]
    },
    {
      "cell_type": "code",
      "metadata": {
        "id": "WmhUQDbmifx6"
      },
      "source": [
        "X_train, X_test, y_train, y_test = train_test_split(X, y, test_size=0.2, random_state=555)"
      ],
      "execution_count": 33,
      "outputs": []
    },
    {
      "cell_type": "markdown",
      "metadata": {
        "id": "4fgT1-B1jWC2"
      },
      "source": [
        "# Создание и обучение моделей"
      ]
    },
    {
      "cell_type": "markdown",
      "metadata": {
        "id": "S-67rtk_j-Ot"
      },
      "source": [
        "### KNN"
      ]
    },
    {
      "cell_type": "markdown",
      "metadata": {
        "id": "w8kpgJgHTBvV"
      },
      "source": [
        "#### Необходимые функции\r\n"
      ]
    },
    {
      "cell_type": "markdown",
      "metadata": {
        "id": "rr8cElMs8wZ9"
      },
      "source": [
        "Функция для отрисовки графика"
      ]
    },
    {
      "cell_type": "code",
      "metadata": {
        "id": "2_FsVexPTK0Z"
      },
      "source": [
        "def grid_plot(x, y, x_label, title, y_label='cross_val, accuracy'):\r\n",
        "    # определили размер графика\r\n",
        "    plt.figure(figsize=(12, 6))\r\n",
        "    # добавили сетку на фон\r\n",
        "    plt.grid(True)\r\n",
        "    # построили по х - число соседей, по y - точность\r\n",
        "    plt.plot(x, y, 'go-')\r\n",
        "    # добавили подписи осей и название графика\r\n",
        "    plt.xlabel(x_label)\r\n",
        "    plt.ylabel(y_label)\r\n",
        "    plt.title(title)"
      ],
      "execution_count": 34,
      "outputs": []
    },
    {
      "cell_type": "markdown",
      "metadata": {
        "id": "LNcxWd_s8y8e"
      },
      "source": [
        "Функция печатает подобранные параметры"
      ]
    },
    {
      "cell_type": "code",
      "metadata": {
        "id": "d0mYQGlyTOr6"
      },
      "source": [
        "def print_best_params(gs):\r\n",
        "  print(gs.best_params_, gs.best_score_)"
      ],
      "execution_count": 35,
      "outputs": []
    },
    {
      "cell_type": "markdown",
      "metadata": {
        "id": "B3yiA8YXXNNQ"
      },
      "source": [
        "Функция для обучения модели и выдачи результатов"
      ]
    },
    {
      "cell_type": "code",
      "metadata": {
        "id": "hxK_IGLdTQdx"
      },
      "source": [
        "def fit_predict_knn(gs, x_train, y_train, x_test, y_test, print_result=True, save = True, filename = None):\r\n",
        "  knn = None\r\n",
        "  if is_model_data_exist(filename):\r\n",
        "    knn = model_load(filename)\r\n",
        "    save = False\r\n",
        "    print(filename + ' existing\\n')\r\n",
        "  else:\r\n",
        "    knn = KNeighborsClassifier(**gs.best_params_)\r\n",
        "    knn.fit(x_train, y_train)\r\n",
        "\r\n",
        "  preds = knn.predict(x_test)\r\n",
        "  if print_result: print(metrics.classification_report(y_test, preds))\r\n",
        "  if save: model_save(knn, filename)\r\n",
        "  return preds"
      ],
      "execution_count": 36,
      "outputs": []
    },
    {
      "cell_type": "markdown",
      "metadata": {
        "id": "eGsTwM8TkBYU"
      },
      "source": [
        "#### Создание и обучение модели"
      ]
    },
    {
      "cell_type": "code",
      "metadata": {
        "colab": {
          "base_uri": "https://localhost:8080/"
        },
        "id": "bvMGrBF0lSQ7",
        "outputId": "8728de26-08e1-4b20-bc8e-e3c8997b3970"
      },
      "source": [
        "%%time\r\n",
        "knn_grid = {'n_neighbors': np.array(np.arange(1,14), dtype='int')}\r\n",
        "knn_gs = find_parameters(KNeighborsClassifier(), knn_grid, X_train[:50000], y_train[:50000])"
      ],
      "execution_count": 37,
      "outputs": [
        {
          "output_type": "stream",
          "text": [
            "Wall time: 1min 8s\n"
          ],
          "name": "stdout"
        }
      ]
    },
    {
      "cell_type": "markdown",
      "metadata": {
        "id": "666YR1l4U1Eb"
      },
      "source": [
        "На графике ниже мы видим точность модели в зависимости от количества соседей. Максимальная точность достигается при 3 соседях рядом"
      ]
    },
    {
      "cell_type": "code",
      "metadata": {
        "colab": {
          "base_uri": "https://localhost:8080/",
          "height": 405
        },
        "id": "H41fZm1V1dpE",
        "outputId": "6de04198-e33f-4128-c309-f14097c35104"
      },
      "source": [
        "grid_plot(knn_grid['n_neighbors'], knn_gs.cv_results_['mean_test_score'], 'n_neighbors', 'KNeighborsClassifier')"
      ],
      "execution_count": 38,
      "outputs": [
        {
          "output_type": "display_data",
          "data": {
            "text/plain": [
              "<Figure size 864x432 with 1 Axes>"
            ],
            "image/png": "[encoded data removed]"
          },
          "metadata": {
            "tags": [],
            "needs_background": "light"
          }
        }
      ]
    },
    {
      "cell_type": "code",
      "metadata": {
        "colab": {
          "base_uri": "https://localhost:8080/"
        },
        "id": "G6HxMUjc1h2o",
        "outputId": "f03abc0e-d4ea-4e5c-d723-566277d131e1"
      },
      "source": [
        "print_best_params(knn_gs)"
      ],
      "execution_count": 39,
      "outputs": [
        {
          "output_type": "stream",
          "text": [
            "{'n_neighbors': 3} 0.9990600000000001\n"
          ],
          "name": "stdout"
        }
      ]
    },
    {
      "cell_type": "code",
      "metadata": {
        "colab": {
          "base_uri": "https://localhost:8080/"
        },
        "id": "Yjv2uCMY2fZN",
        "outputId": "1d702d55-03fa-4c19-e57b-c1895100da74"
      },
      "source": [
        "%%time\r\n",
        "fit_predict_knn(knn_gs, X_train, y_train, X_test, y_test, filename = 'knn_no_aug')"
      ],
      "execution_count": 40,
      "outputs": [
        {
          "output_type": "stream",
          "text": [
            "knn_no_aug existing\n",
            "\n",
            "              precision    recall  f1-score   support\n",
            "\n",
            "           0       1.00      1.00      1.00    299696\n",
            "           1       0.85      0.66      0.74       304\n",
            "\n",
            "    accuracy                           1.00    300000\n",
            "   macro avg       0.92      0.83      0.87    300000\n",
            "weighted avg       1.00      1.00      1.00    300000\n",
            "\n",
            "Wall time: 33.7 s\n"
          ],
          "name": "stdout"
        },
        {
          "output_type": "execute_result",
          "data": {
            "text/plain": [
              "array([0, 0, 0, ..., 0, 0, 0], dtype=int64)"
            ]
          },
          "metadata": {
            "tags": []
          },
          "execution_count": 40
        }
      ]
    },
    {
      "cell_type": "markdown",
      "metadata": {
        "id": "eZMW6MopXWT2"
      },
      "source": [
        "Достаточно неплохой результат. precision и recall для второго класса на хорошем уровне, если учесть что этот класс в выборке очень небольшой"
      ]
    },
    {
      "cell_type": "markdown",
      "metadata": {
        "id": "tCJOCtk53iuV"
      },
      "source": [
        "### Логистическая регрессия\r\n"
      ]
    },
    {
      "cell_type": "markdown",
      "metadata": {
        "id": "bnacFu_CTbNl"
      },
      "source": [
        "#### Необходимые функции"
      ]
    },
    {
      "cell_type": "code",
      "metadata": {
        "id": "98Su01BFTe45"
      },
      "source": [
        "def fit_predict_log(gs, x_train, y_train, x_test, y_test, print_result=True, class_weight = None, save = True, filename = None):\r\n",
        "  log = None\r\n",
        "  if is_model_data_exist(filename):\r\n",
        "    log = model_load(filename)\r\n",
        "    save = False\r\n",
        "  else:\r\n",
        "    log = LogisticRegression(**gs.best_params_)\r\n",
        "    log.fit(x_train, y_train)\r\n",
        "\r\n",
        "  preds = log.predict(x_test)\r\n",
        "  if print_result: print(metrics.classification_report(y_test, preds))\r\n",
        "  if save: model_save(log, filename)\r\n",
        "\r\n",
        "  return preds"
      ],
      "execution_count": 41,
      "outputs": []
    },
    {
      "cell_type": "markdown",
      "metadata": {
        "id": "568bi7PVTkFd"
      },
      "source": [
        "#### Создание и обучение модели"
      ]
    },
    {
      "cell_type": "code",
      "metadata": {
        "colab": {
          "base_uri": "https://localhost:8080/"
        },
        "id": "uL5w2cWC3sCV",
        "outputId": "4683e905-c229-427f-9a44-2a45ef944e9a"
      },
      "source": [
        "%%time\r\n",
        "log_grid = {\r\n",
        "    \"C\":list(np.linspace(0.1,1,20, dtype='float')), \r\n",
        "    \"penalty\":[\"l1\",\"l2\"], \r\n",
        "    \"solver\" : ['newton-cg', 'lbfgs', 'liblinear', 'sag', 'saga'] \r\n",
        "}\r\n",
        "log_gs = find_parameters(LogisticRegression(), log_grid, X_train[:50000], y_train[:50000])"
      ],
      "execution_count": 42,
      "outputs": [
        {
          "output_type": "stream",
          "text": [
            "Wall time: 4min 48s\n"
          ],
          "name": "stdout"
        }
      ]
    },
    {
      "cell_type": "code",
      "metadata": {
        "colab": {
          "base_uri": "https://localhost:8080/"
        },
        "id": "ryAZ6v2D-8JM",
        "outputId": "bda24208-2d35-4616-d213-f2cada49adc9"
      },
      "source": [
        "print_best_params(log_gs)"
      ],
      "execution_count": 43,
      "outputs": [
        {
          "output_type": "stream",
          "text": [
            "{'C': 0.43157894736842106, 'penalty': 'l1', 'solver': 'liblinear'} 0.999\n"
          ],
          "name": "stdout"
        }
      ]
    },
    {
      "cell_type": "code",
      "metadata": {
        "colab": {
          "base_uri": "https://localhost:8080/"
        },
        "id": "TxfObSsJ_hI_",
        "outputId": "eea45a4c-0c16-41fe-d0ab-060298d1e740"
      },
      "source": [
        "%%time\r\n",
        "fit_predict_log(log_gs, X_train, y_train, X_test, y_test, filename = 'log_no_aug')"
      ],
      "execution_count": 44,
      "outputs": [
        {
          "output_type": "stream",
          "text": [
            "              precision    recall  f1-score   support\n",
            "\n",
            "           0       1.00      1.00      1.00    299696\n",
            "           1       0.89      0.35      0.50       304\n",
            "\n",
            "    accuracy                           1.00    300000\n",
            "   macro avg       0.95      0.68      0.75    300000\n",
            "weighted avg       1.00      1.00      1.00    300000\n",
            "\n",
            "Wall time: 418 ms\n"
          ],
          "name": "stdout"
        },
        {
          "output_type": "execute_result",
          "data": {
            "text/plain": [
              "array([0, 0, 0, ..., 0, 0, 0], dtype=int64)"
            ]
          },
          "metadata": {
            "tags": []
          },
          "execution_count": 44
        }
      ]
    },
    {
      "cell_type": "markdown",
      "metadata": {
        "id": "GPxBJ6q-Xn0v"
      },
      "source": [
        "Результат немнго хуже чем у KNN"
      ]
    },
    {
      "cell_type": "markdown",
      "metadata": {
        "id": "J7-6S9ivACDn"
      },
      "source": [
        "### SVM"
      ]
    },
    {
      "cell_type": "markdown",
      "metadata": {
        "id": "hFrB_8LdTqaK"
      },
      "source": [
        "#### Необходимые функции"
      ]
    },
    {
      "cell_type": "code",
      "metadata": {
        "id": "fvuTZUlcT1li"
      },
      "source": [
        "def fit_predict_svc(gs, x_train, y_train, x_test, y_test, print_result=True, save = True, filename = None):\r\n",
        "  svc = None\r\n",
        "  if is_model_data_exist(filename):\r\n",
        "    svc = model_load(filename)\r\n",
        "    save = False\r\n",
        "  else:\r\n",
        "    svc = SVC(**gs.best_params_)\r\n",
        "    svc.fit(x_train, y_train)\r\n",
        "    \r\n",
        "  preds = svc.predict(x_test)\r\n",
        "  if print_result: print(metrics.classification_report(y_test, preds))\r\n",
        "  if save: model_save(svc, filename)\r\n",
        "  \r\n",
        "  return preds"
      ],
      "execution_count": 45,
      "outputs": []
    },
    {
      "cell_type": "markdown",
      "metadata": {
        "id": "KdHIC7RjT5fE"
      },
      "source": [
        "#### Создание и обучение модели"
      ]
    },
    {
      "cell_type": "code",
      "metadata": {
        "id": "u3XqjIPhGxe2",
        "colab": {
          "base_uri": "https://localhost:8080/"
        },
        "outputId": "9f19358a-2c71-4634-ae49-7228cde39e08"
      },
      "source": [
        "%%time\r\n",
        "grid_svm = {\r\n",
        "    \"C\":list(np.linspace(0.1,1,20, dtype='float')),\r\n",
        "    'kernel': ['linear', 'poly', 'rbf', 'sigmoid']\r\n",
        "}\r\n",
        "svm_gs = find_parameters(SVC(), grid_svm, X_train[:50000], y_train[:50000])"
      ],
      "execution_count": 46,
      "outputs": [
        {
          "output_type": "stream",
          "text": [
            "Wall time: 2min 36s\n"
          ],
          "name": "stdout"
        }
      ]
    },
    {
      "cell_type": "code",
      "metadata": {
        "id": "1JniHpw4ICv6",
        "colab": {
          "base_uri": "https://localhost:8080/"
        },
        "outputId": "9b13b64d-ffd4-4b3e-a221-09bf12043efc"
      },
      "source": [
        "print_best_params(svm_gs)"
      ],
      "execution_count": 47,
      "outputs": [
        {
          "output_type": "stream",
          "text": [
            "{'C': 0.1473684210526316, 'kernel': 'poly'} 0.9991\n"
          ],
          "name": "stdout"
        }
      ]
    },
    {
      "cell_type": "code",
      "metadata": {
        "id": "ITPK5BnlIZz7",
        "colab": {
          "base_uri": "https://localhost:8080/"
        },
        "outputId": "27d8a565-aaff-4933-a73a-33750a2a86fb"
      },
      "source": [
        "%%time\r\n",
        "fit_predict_svc(svm_gs, X_train, y_train, X_test, y_test, filename = 'svm_no_aug')"
      ],
      "execution_count": 48,
      "outputs": [
        {
          "output_type": "stream",
          "text": [
            "              precision    recall  f1-score   support\n",
            "\n",
            "           0       1.00      1.00      1.00    299696\n",
            "           1       0.99      0.28      0.44       304\n",
            "\n",
            "    accuracy                           1.00    300000\n",
            "   macro avg       0.99      0.64      0.72    300000\n",
            "weighted avg       1.00      1.00      1.00    300000\n",
            "\n",
            "Wall time: 7.18 s\n"
          ],
          "name": "stdout"
        },
        {
          "output_type": "execute_result",
          "data": {
            "text/plain": [
              "array([0, 0, 0, ..., 0, 0, 0], dtype=int64)"
            ]
          },
          "metadata": {
            "tags": []
          },
          "execution_count": 48
        }
      ]
    },
    {
      "cell_type": "markdown",
      "metadata": {
        "id": "1CUYW-eCXrnj"
      },
      "source": [
        "Мы видим, что модель практически не ошибалась в предсказании. Однако, не все мошеннические транзакции смогла распознать"
      ]
    },
    {
      "cell_type": "markdown",
      "metadata": {
        "id": "g42Gpgx2i7cv"
      },
      "source": [
        "### XGBoost"
      ]
    },
    {
      "cell_type": "code",
      "metadata": {
        "id": "2OoSVbzAi-Au"
      },
      "source": [
        "def xgboost_fit_predict(x_train, y_train, x_test, y_test, print_result=True, save = True, filename = None):\r\n",
        "  model = XGBClassifier()\r\n",
        "  model.fit(x_train, y_train)\r\n",
        "  pred = model.predict(x_test)\r\n",
        "\r\n",
        "  if print_result: print(metrics.classification_report(y_test, pred))\r\n",
        "  if save: model_save(model, filename)\r\n",
        "\r\n",
        "  return pred"
      ],
      "execution_count": 49,
      "outputs": []
    },
    {
      "cell_type": "code",
      "metadata": {
        "id": "_0Kk8o-6Fnkm",
        "colab": {
          "base_uri": "https://localhost:8080/"
        },
        "outputId": "af873c99-b126-44a3-8172-ddfb6ada0b8c"
      },
      "source": [
        "%%time\r\n",
        "xgboost_fit_predict(X_train, y_train, X_test, y_test, filename = 'xgb_no_aug')"
      ],
      "execution_count": 50,
      "outputs": [
        {
          "output_type": "stream",
          "text": [
            "              precision    recall  f1-score   support\n",
            "\n",
            "           0       1.00      1.00      1.00    299696\n",
            "           1       0.95      0.71      0.81       304\n",
            "\n",
            "    accuracy                           1.00    300000\n",
            "   macro avg       0.97      0.86      0.91    300000\n",
            "weighted avg       1.00      1.00      1.00    300000\n",
            "\n",
            "Wall time: 48.1 s\n"
          ],
          "name": "stdout"
        },
        {
          "output_type": "execute_result",
          "data": {
            "text/plain": [
              "array([0, 0, 0, ..., 0, 0, 0], dtype=int64)"
            ]
          },
          "metadata": {
            "tags": []
          },
          "execution_count": 50
        }
      ]
    },
    {
      "cell_type": "markdown",
      "metadata": {
        "id": "T7F6Bs4kX3GL"
      },
      "source": [
        "Самый лучший результат из всех"
      ]
    },
    {
      "cell_type": "markdown",
      "metadata": {
        "id": "olZyvY-GQfQ7"
      },
      "source": [
        "# Промежуточный вывод"
      ]
    },
    {
      "cell_type": "markdown",
      "metadata": {
        "id": "kEKLrdSdQjFw"
      },
      "source": [
        "Мы видим, что наши модели не могут хорошо распознавать второй класс (мошеннические транзакции). Попробуем исправить это с помощью аугментации данных"
      ]
    },
    {
      "cell_type": "markdown",
      "metadata": {
        "id": "AWobzl09Q0E5"
      },
      "source": [
        "# Аугментация данных\r\n"
      ]
    },
    {
      "cell_type": "code",
      "metadata": {
        "id": "hO070PS5SQHh"
      },
      "source": [
        "def oversample_data(X, y):\r\n",
        "    return ADASYN(sampling_strategy='minority').fit_resample(np.array(X), np.array(y))"
      ],
      "execution_count": 51,
      "outputs": []
    },
    {
      "cell_type": "code",
      "metadata": {
        "id": "L8scL5hmSQso"
      },
      "source": [
        "X_train_aug, y_train_aug = oversample_data(X_train, y_train)"
      ],
      "execution_count": 52,
      "outputs": []
    },
    {
      "cell_type": "code",
      "metadata": {
        "id": "V53p1TJCUWvv",
        "colab": {
          "base_uri": "https://localhost:8080/"
        },
        "outputId": "21ebe91b-5e33-40db-dde4-2bc2c16e7f66"
      },
      "source": [
        "y_train_aug.shape"
      ],
      "execution_count": 53,
      "outputs": [
        {
          "output_type": "execute_result",
          "data": {
            "text/plain": [
              "(2397425,)"
            ]
          },
          "metadata": {
            "tags": []
          },
          "execution_count": 53
        }
      ]
    },
    {
      "cell_type": "markdown",
      "metadata": {
        "id": "jGiKPMekS3eJ"
      },
      "source": [
        "# Обучение моделей на аугментированных данных"
      ]
    },
    {
      "cell_type": "markdown",
      "metadata": {
        "id": "kIwDUfqyYOTj"
      },
      "source": [
        "Здесь мы не будем снова подбирать параметры для моделей на аугментированных данных, т.к. это занимает очень много времени. Сразу будем обучать на уже подобранных параметрах"
      ]
    },
    {
      "cell_type": "markdown",
      "metadata": {
        "id": "KlbsfUXAT9cR"
      },
      "source": [
        "### KNN\r\n"
      ]
    },
    {
      "cell_type": "code",
      "metadata": {
        "id": "8T5oO6cuU1xH",
        "colab": {
          "base_uri": "https://localhost:8080/"
        },
        "outputId": "2b22c473-0c14-4929-db7c-026441f1f88a"
      },
      "source": [
        "%%time\r\n",
        "fit_predict_knn(knn_gs, X_train_aug, y_train_aug, X_test, y_test, filename = 'knn_aug')"
      ],
      "execution_count": 57,
      "outputs": [
        {
          "output_type": "stream",
          "text": [
            "knn_aug existing\n",
            "\n",
            "              precision    recall  f1-score   support\n",
            "\n",
            "           0       1.00      0.99      1.00    299696\n",
            "           1       0.11      0.81      0.19       304\n",
            "\n",
            "    accuracy                           0.99    300000\n",
            "   macro avg       0.55      0.90      0.59    300000\n",
            "weighted avg       1.00      0.99      1.00    300000\n",
            "\n",
            "Wall time: 32.9 s\n"
          ],
          "name": "stdout"
        },
        {
          "output_type": "execute_result",
          "data": {
            "text/plain": [
              "array([0, 0, 0, ..., 0, 0, 0], dtype=int64)"
            ]
          },
          "metadata": {
            "tags": []
          },
          "execution_count": 57
        }
      ]
    },
    {
      "cell_type": "markdown",
      "metadata": {
        "id": "krwqtNkdWRJG"
      },
      "source": [
        "Результат противоречивый"
      ]
    },
    {
      "cell_type": "markdown",
      "metadata": {
        "id": "BNVL8oxVYRsq"
      },
      "source": [
        "### Логистическая регрессия"
      ]
    },
    {
      "cell_type": "code",
      "metadata": {
        "id": "XcCLSCrsYk1K",
        "colab": {
          "base_uri": "https://localhost:8080/"
        },
        "outputId": "35298fab-e0dd-49dc-c4f6-c60cb5c150d8"
      },
      "source": [
        "%%time\r\n",
        "fit_predict_log(log_gs, X_train_aug, y_train_aug, X_test, y_test, filename = 'log_aug')"
      ],
      "execution_count": 60,
      "outputs": [
        {
          "output_type": "stream",
          "text": [
            "              precision    recall  f1-score   support\n",
            "\n",
            "           0       1.00      0.94      0.97    299696\n",
            "           1       0.01      0.89      0.03       304\n",
            "\n",
            "    accuracy                           0.94    300000\n",
            "   macro avg       0.51      0.91      0.50    300000\n",
            "weighted avg       1.00      0.94      0.97    300000\n",
            "\n",
            "Wall time: 431 ms\n"
          ],
          "name": "stdout"
        },
        {
          "output_type": "execute_result",
          "data": {
            "text/plain": [
              "array([1, 0, 0, ..., 0, 0, 0], dtype=int64)"
            ]
          },
          "metadata": {
            "tags": []
          },
          "execution_count": 60
        }
      ]
    },
    {
      "cell_type": "markdown",
      "metadata": {
        "id": "fOk6tRx3cERp"
      },
      "source": [
        "### SVM"
      ]
    },
    {
      "cell_type": "code",
      "metadata": {
        "id": "K0VIf9IQcPZp"
      },
      "source": [
        "%%time\r\n",
        "fit_predict_svc(svm_gs, X_train_aug, y_train_aug, X_test, y_test, filename = 'svm_aug')"
      ],
      "execution_count": null,
      "outputs": []
    },
    {
      "cell_type": "markdown",
      "metadata": {
        "id": "bOc1boBXUp8h"
      },
      "source": [
        "К сожалению, результатов обучения по данной модели я не дождался. Это либо баг либо очень долгая работа алгоритма. Погуглив, нашел [людей с такой же проблемой](https://github.com/scikit-learn/scikit-learn/issues/4648)"
      ]
    },
    {
      "cell_type": "markdown",
      "metadata": {
        "id": "e6qytM2zFtoM"
      },
      "source": [
        "### XGBoost"
      ]
    },
    {
      "cell_type": "code",
      "metadata": {
        "id": "-vPbU0kwFvIz"
      },
      "source": [
        "%%time\r\n",
        "xgboost_fit_predict(X_train_aug, y_train_aug, X_test, y_test, filename = 'xgb_aug')"
      ],
      "execution_count": null,
      "outputs": []
    },
    {
      "cell_type": "code",
      "metadata": {
        "colab": {
          "base_uri": "https://localhost:8080/"
        },
        "id": "8p9L6avALNUU",
        "outputId": "4d6a3fca-a7e7-4e69-8784-1fbc8b42ee86"
      },
      "source": [
        "%%time\r\n",
        "xgboost_fit_predict(X_train_aug, y_train_aug, X_test, y_test, filename = 'xgb_aug')"
      ],
      "execution_count": null,
      "outputs": [
        {
          "output_type": "stream",
          "text": [
            "              precision    recall  f1-score   support\n",
            "\n",
            "           0       1.00      0.99      1.00    299696\n",
            "           1       0.15      0.98      0.27       304\n",
            "\n",
            "    accuracy                           0.99    300000\n",
            "   macro avg       0.58      0.99      0.63    300000\n",
            "weighted avg       1.00      0.99      1.00    300000\n",
            "\n",
            "Wall time: 2min 20s\n"
          ],
          "name": "stdout"
        },
        {
          "output_type": "execute_result",
          "data": {
            "text/plain": [
              "array([0, 0, 0, ..., 0, 0, 0], dtype=int64)"
            ]
          },
          "metadata": {
            "tags": []
          },
          "execution_count": 40
        }
      ]
    },
    {
      "cell_type": "markdown",
      "metadata": {
        "id": "V1habfxtUakP"
      },
      "source": [
        "# Вывод"
      ]
    },
    {
      "cell_type": "markdown",
      "metadata": {
        "id": "06v_stg-US3g"
      },
      "source": [
        "В результате обучения моделей на аугментированных данных мы видим, что precision уменьшился, а recall увеличился. \r\n",
        "Получается, что наши модели стали находить больше мошеннических транзакций среди остальных, но в то же время, стали больше ошибаться и относить к мошенническим транзакциям не мошеннические.\r\n",
        "\r\n",
        "Возможно, стоило детальнее анализировать данные перед формированием признаков и выявить еще какие-либо зависимости для увеличения precision. \r\n",
        "\r\n",
        "Возможно, стоило удалить из выборки все транзакции кроме CASH_OUT И TRANSFER, т.к. мошеннические транзакции совершались только по ним"
      ]
    }
  ]
}