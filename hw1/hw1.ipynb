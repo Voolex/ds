{
  "nbformat": 4,
  "nbformat_minor": 0,
  "metadata": {
    "colab": {
      "name": "hw1.ipynb",
      "provenance": [],
      "authorship_tag": "ABX9TyOFO+vttReJDE/gxjjL6m2f",
      "include_colab_link": true
    },
    "kernelspec": {
      "name": "python3",
      "display_name": "Python 3"
    }
  },
  "cells": [
    {
      "cell_type": "markdown",
      "metadata": {
        "id": "view-in-github",
        "colab_type": "text"
      },
      "source": [
        "<a href=\"https://colab.research.google.com/github/Voolex/ds/blob/main/hw1/hw1.ipynb\" target=\"_parent\"><img src=\"https://colab.research.google.com/assets/colab-badge.svg\" alt=\"Open In Colab\"/></a>"
      ]
    },
    {
      "cell_type": "markdown",
      "metadata": {
        "id": "4Wgp1FDn9oeh"
      },
      "source": [
        "## Задание 1\n",
        "\n",
        "Создайте список (list) с элементами от 1 до 10 включительно двумя разными способами:\n",
        "* при помощи list comprehensions\n",
        "* при помощи цикла for"
      ]
    },
    {
      "cell_type": "code",
      "metadata": {
        "colab": {
          "base_uri": "https://localhost:8080/"
        },
        "id": "Trw5fZtq-sKK",
        "outputId": "6af3ca02-ca71-4bd3-a067-e2b768182ebc"
      },
      "source": [
        "#Ваше решение тут\n",
        "# list comprehensions\n",
        "mylist = [i for i in range(1,11)]\n",
        "print(mylist)\n",
        "\n",
        "# Цикл for\n",
        "mylist = []\n",
        "for i in range(1,11):\n",
        "  mylist.append(i)\n",
        "\n",
        "print(mylist)"
      ],
      "execution_count": null,
      "outputs": [
        {
          "output_type": "stream",
          "text": [
            "range(1, 11)\n",
            "[1, 2, 3, 4, 5, 6, 7, 8, 9, 10]\n"
          ],
          "name": "stdout"
        }
      ]
    },
    {
      "cell_type": "markdown",
      "metadata": {
        "id": "WFASdcHs-HDU"
      },
      "source": [
        "## Задание 2\n",
        "\n",
        "Создайте список (list) с **четными** элементами из промежутка от 1 до 10 включительно двумя разными способами:\n",
        "* при помощи list comprehensions\n",
        "* при помощи цикла for"
      ]
    },
    {
      "cell_type": "code",
      "metadata": {
        "colab": {
          "base_uri": "https://localhost:8080/"
        },
        "id": "DAB9tzx6lGg_",
        "outputId": "b7f01c5c-6ec3-4717-d7bc-02886a4a4a01"
      },
      "source": [
        "#Ваше решение тут\n",
        "# list comprehensions\n",
        "#   Тут два решения пришли в голову одновременно, поэтому записал два. Первое мне кажется красивее, и оно быстрее\n",
        "#   Время для первого решения: best of 3: 155 µs per loop\n",
        "#   Время для второго: best of 3: 164 µs per loop\n",
        "mylist = [i for i in range(1,11) if not i%2]  # первое решение\n",
        "#mylist = [i for i in range(1,11)[1::2]]  # второе\n",
        "print(mylist)\n",
        "\n",
        "# Цикл for\n",
        "mylist = []\n",
        "for i in range(1,11):\n",
        "  if not i%2:\n",
        "    mylist.append(i)\n",
        "\n",
        "print(mylist)"
      ],
      "execution_count": null,
      "outputs": [
        {
          "output_type": "stream",
          "text": [
            "[2, 4, 6, 8, 10]\n",
            "[2, 4, 6, 8, 10]\n"
          ],
          "name": "stdout"
        }
      ]
    },
    {
      "cell_type": "markdown",
      "metadata": {
        "id": "ART_Rcf8_D1Q"
      },
      "source": [
        "## Задание 3\n",
        "присвойте переменной **x** следующее значение:\n",
        "$$\n",
        "x=100^{3^{2}}-\\frac{10^{3}}{5^{2}}\n",
        "$$\n",
        "Выведите, чему теперь равна переменная **x**"
      ]
    },
    {
      "cell_type": "code",
      "metadata": {
        "colab": {
          "base_uri": "https://localhost:8080/"
        },
        "id": "60of6x1F-4xb",
        "outputId": "95bafb6e-a88c-4397-fd5b-992343d737e8"
      },
      "source": [
        "#Ваше решение тут\n",
        "x = (100**3)**2 - (10**3)/(5**2)\n",
        "print(x)"
      ],
      "execution_count": null,
      "outputs": [
        {
          "output_type": "stream",
          "text": [
            "999999999960.0\n"
          ],
          "name": "stdout"
        }
      ]
    },
    {
      "cell_type": "markdown",
      "metadata": {
        "id": "JUkk796pANdG"
      },
      "source": [
        "## Задание 4\n",
        "\n",
        "Найдите, истинно ли, что 3 в 15 степени больше 3000 при условии, что 3 в 7й степени меньше 7 в 5й."
      ]
    },
    {
      "cell_type": "code",
      "metadata": {
        "colab": {
          "base_uri": "https://localhost:8080/"
        },
        "id": "1d68HG4SAg3t",
        "outputId": "68b88598-ef62-4683-aa63-3c5b830a4749"
      },
      "source": [
        "#Ваше решение тут\n",
        "\n",
        "print((3**15 > 3000) and (3**7 < 7**5))"
      ],
      "execution_count": null,
      "outputs": [
        {
          "output_type": "stream",
          "text": [
            "True\n"
          ],
          "name": "stdout"
        }
      ]
    },
    {
      "cell_type": "markdown",
      "metadata": {
        "id": "fIJhD6MSA7Sm"
      },
      "source": [
        "## Задание 5\n",
        "Мы принимаем целое число на ввод с клавиатуры (код предоставлен), вывести \"цена выше рынка\", если число выше 1200, \"цена ниже рыночной\", если число меньше 800 и \"все ок\" в остальных случаях."
      ]
    },
    {
      "cell_type": "code",
      "metadata": {
        "colab": {
          "base_uri": "https://localhost:8080/"
        },
        "id": "Z785bvZhAJHy",
        "outputId": "6036cdca-24a5-4fb7-fffb-a97d8e5b4ec8"
      },
      "source": [
        "price = int(input('Введите цену товара: '))\n",
        "#Ваше решение тут\n",
        "if price > 1200:\n",
        "  print('цена выше рынка')\n",
        "elif price < 800:\n",
        "  print('цена ниже рыночной')\n",
        "else:\n",
        "  print('все ок')"
      ],
      "execution_count": null,
      "outputs": [
        {
          "output_type": "stream",
          "text": [
            "Введите цену товара: 1199\n",
            "все ок\n"
          ],
          "name": "stdout"
        }
      ]
    },
    {
      "cell_type": "markdown",
      "metadata": {
        "id": "t-FCWwCmBNjV"
      },
      "source": [
        "## Задание 6\n",
        "\n",
        "Даны два словаря: dictionary_1 = {'price_1': 300, 'price_2': 400} и dictionary_2 = {'price_1': 500, 'price_3': 600}. Объедините их в один при помощи встроенных функций языка Python (методов объекта dict)."
      ]
    },
    {
      "cell_type": "code",
      "metadata": {
        "colab": {
          "base_uri": "https://localhost:8080/"
        },
        "id": "M64tMdg3BGI-",
        "outputId": "36deceeb-29b2-49de-93e4-806a525834d6"
      },
      "source": [
        "#Ваше решение тут\n",
        "dictionary_1 = {'price_1': 300, 'price_2': 400}\n",
        "dictionary_2 = {'price_1': 500, 'price_3': 600}\n",
        "dictionary_1.update(dictionary_2)\n",
        "print(dictionary_1)"
      ],
      "execution_count": null,
      "outputs": [
        {
          "output_type": "stream",
          "text": [
            "{'price_1': 500, 'price_2': 400, 'price_3': 600}\n"
          ],
          "name": "stdout"
        }
      ]
    },
    {
      "cell_type": "markdown",
      "metadata": {
        "id": "VYrTaYnpDv3e"
      },
      "source": [
        "## Задание 7\n",
        "Сравните время, затраченное на вычисление частного списков list со значениями от 1 до 10^6 и время, затраченное на вычисление частного массивов типа numpy arrays со значениями от 1 до 10^6 (см. пункт \" Numpy array vs Python list\" в этом ноутбуке)\n",
        "\n",
        "*Подсказка! для генерации list используйте функцию range(), для генерации numpy array - np.arange()*"
      ]
    },
    {
      "cell_type": "code",
      "metadata": {
        "id": "c4D871ent7-A"
      },
      "source": [
        "#Ваше решение тут\n",
        "import numpy as np\n",
        "import time"
      ],
      "execution_count": null,
      "outputs": []
    },
    {
      "cell_type": "code",
      "metadata": {
        "colab": {
          "base_uri": "https://localhost:8080/"
        },
        "id": "Ujh0N0ZvCvfe",
        "outputId": "0abbb8b2-fe4c-4e7a-cad2-c3073eb9ee36"
      },
      "source": [
        "maxsize = 10**6\n",
        "pylist1 = range(1,maxsize)\n",
        "pylist2 = range(1,maxsize)\n",
        "\n",
        "nparray1 = np.arange(1, maxsize) \n",
        "nparray2 = np.arange(1, maxsize) \n",
        "\n",
        "# Включим счетчик времени\n",
        "initialTime = time.time() \n",
        "\n",
        "resultList = [(a / b) for a, b in zip(pylist1, pylist2)] \n",
        "\n",
        "print(f'Время затраченное на деление списков типа list: {time.time() - initialTime} секунд') \n",
        "\n",
        "# Включим счетчик времени\n",
        "initialTime = time.time() \n",
        "\n",
        "resultArray = nparray1 / nparray2 \n",
        "\n",
        "print(f'Время затраченное на деление списков типа ndarray: {time.time() - initialTime} секунд') \n"
      ],
      "execution_count": null,
      "outputs": [
        {
          "output_type": "stream",
          "text": [
            "Время затраченное на деление списков типа list: 0.11644434928894043 секунд\n",
            "Время затраченное на деление списков типа ndarray: 0.004753828048706055 секунд\n"
          ],
          "name": "stdout"
        }
      ]
    },
    {
      "cell_type": "markdown",
      "metadata": {
        "id": "jBaHC7zvNM6U"
      },
      "source": [
        "Использование массивов numpy оказалось быстрее, что ожидаемо, если учесть\n",
        " как они работают."
      ]
    },
    {
      "cell_type": "markdown",
      "metadata": {
        "id": "rw7v8PGlFeKj"
      },
      "source": [
        "## Задание 8\n",
        "\n",
        "Напишите цикл, который выводит все числа от 0 до 500, делящиеся на 7, если в них есть цифра 8.\n",
        "Подсказка: переменную типа int можно привести к типу str:\n",
        "```\n",
        "x = 5\n",
        "y = str(x)\n",
        "```"
      ]
    },
    {
      "cell_type": "code",
      "metadata": {
        "id": "95xgUWkhEAio",
        "colab": {
          "base_uri": "https://localhost:8080/"
        },
        "outputId": "3ec707a8-b65e-4b9a-edc1-4220f0b66224"
      },
      "source": [
        "#Ваше решение тут\n",
        "for i in range(0,500):\n",
        "  if (i % 7 == 0) and (str(i).find('8') != -1):\n",
        "    print(i)"
      ],
      "execution_count": null,
      "outputs": [
        {
          "output_type": "stream",
          "text": [
            "28\n",
            "84\n",
            "98\n",
            "168\n",
            "182\n",
            "189\n",
            "238\n",
            "280\n",
            "287\n",
            "308\n",
            "378\n",
            "385\n",
            "448\n",
            "483\n"
          ],
          "name": "stdout"
        }
      ]
    },
    {
      "cell_type": "markdown",
      "metadata": {
        "id": "ORiF3smuGPSU"
      },
      "source": [
        "## Задание 9\n",
        "Дан массив строк mas. Одной строкой создайте словарь, в котором по ключу строки будет записана пара (кортеж длины 2) (индекс строки в массиве mas, длина строки)"
      ]
    },
    {
      "cell_type": "code",
      "metadata": {
        "colab": {
          "base_uri": "https://localhost:8080/"
        },
        "id": "WGm-xViIFwNS",
        "outputId": "78d86f71-adf6-404a-9742-de1d165bc793"
      },
      "source": [
        "mas = ['abc', 'def', 'hello', 'world']\n",
        "#Ваше решение тут\n",
        "\n",
        "# Использовал dict comprehensions\n",
        "mydict = {key : (mas.index(key), len(key)) for key in mas}\n",
        "mydict"
      ],
      "execution_count": null,
      "outputs": [
        {
          "output_type": "execute_result",
          "data": {
            "text/plain": [
              "{'abc': (0, 3), 'def': (1, 3), 'hello': (2, 5), 'world': (3, 5)}"
            ]
          },
          "metadata": {
            "tags": []
          },
          "execution_count": 2
        }
      ]
    },
    {
      "cell_type": "markdown",
      "metadata": {
        "id": "JOfOYKkNHMPy"
      },
      "source": [
        "## Задание 10\n",
        "Реализовать функцию, которая сохраняет в 2 глобальные переменные:\n",
        "сумму всех позиционных аргументов - релизовать через lambda;\n",
        "название всех именованных аргументов в виде списка."
      ]
    },
    {
      "cell_type": "code",
      "metadata": {
        "colab": {
          "base_uri": "https://localhost:8080/"
        },
        "id": "3xg8ELhdTb12",
        "outputId": "c377bd61-9f50-4387-d562-83bf1634b4b9"
      },
      "source": [
        "summ = 0\n",
        "names = []\n",
        "#Ваше решение тут\n",
        "def another_func(*args, **kwargs):\n",
        "  global summ\n",
        "  global names\n",
        "  summ = (lambda a: sum(a))(args)\n",
        "  names = [name for name in kwargs]\n",
        "\n",
        "  # Это тоже работает. Не знаю, какой способ предпочтительнее\n",
        "  #names = list(kwargs.keys())\n",
        "\n",
        "\n",
        "another_func(1, 2, 3, a=4, b=5)\n",
        "\n",
        "print(f'Cумма {summ}, названия {names}')"
      ],
      "execution_count": 2,
      "outputs": [
        {
          "output_type": "stream",
          "text": [
            "Cумма 6, названия ['a', 'b']\n"
          ],
          "name": "stdout"
        }
      ]
    }
  ]
}