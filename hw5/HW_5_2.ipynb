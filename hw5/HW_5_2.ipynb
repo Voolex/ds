{
  "nbformat": 4,
  "nbformat_minor": 0,
  "metadata": {
    "colab": {
      "name": "HW_5.2.ipynb",
      "provenance": [],
      "collapsed_sections": []
    },
    "kernelspec": {
      "name": "python3",
      "display_name": "Python 3"
    }
  },
  "cells": [
    {
      "cell_type": "markdown",
      "metadata": {
        "id": "kb6VYFXtr0nj"
      },
      "source": [
        "https://colab.research.google.com/drive/1OX3DFYTgaHcBIddtcxiLSf7IZfzPy8EE?usp=sharing"
      ]
    },
    {
      "cell_type": "markdown",
      "metadata": {
        "id": "0M55Ql3SNzz3"
      },
      "source": [
        "Задание на добавление столбца\r\n"
      ]
    },
    {
      "cell_type": "markdown",
      "metadata": {
        "id": "0ottyz91ZafZ"
      },
      "source": [
        "Создадим базу данных и таблицу для проверки нашего решения"
      ]
    },
    {
      "cell_type": "code",
      "metadata": {
        "id": "fnBRJ_ugOdhi"
      },
      "source": [
        "import sqlite3\r\n",
        "import pandas as pd\r\n",
        "conn = sqlite3.connect('mydatabase.db')\r\n",
        "\r\n",
        "cursor = conn.cursor()"
      ],
      "execution_count": null,
      "outputs": []
    },
    {
      "cell_type": "code",
      "metadata": {
        "id": "u5nmoEwMQm0i"
      },
      "source": [
        "cursor.execute(\r\n",
        "'''\r\n",
        "CREATE TABLE table1\r\n",
        "    (\r\n",
        "      id INTEGER PRIMARY KEY AUTOINCREMENT,\r\n",
        "      absolutely_random_value REAL\r\n",
        "    )\r\n",
        "''')\r\n",
        "conn.commit()"
      ],
      "execution_count": null,
      "outputs": []
    },
    {
      "cell_type": "code",
      "metadata": {
        "id": "q1UZ2YUFQ5xi"
      },
      "source": [
        "# Тут просто генерируем какие-то рандомные значения и рандомное количество строк\r\n",
        "from random import randint\r\n",
        "values = [((i/randint(10,20)),) for i in range(randint(0,randint(0,150000)))]\r\n",
        "\r\n",
        "cursor.executemany('''\r\n",
        "   INSERT INTO table1\r\n",
        "   (absolutely_random_value)\r\n",
        "   VALUES\r\n",
        "   (?)''', (values))\r\n",
        "conn.commit()"
      ],
      "execution_count": null,
      "outputs": []
    },
    {
      "cell_type": "code",
      "metadata": {
        "colab": {
          "base_uri": "https://localhost:8080/",
          "height": 359
        },
        "id": "BAZTFoJpWy-d",
        "outputId": "d32e3051-9088-4858-fbc5-9fb07a922c4e"
      },
      "source": [
        "# Посмотрим что получилось\r\n",
        "pd.read_sql('SELECT * FROM table1 LIMIT 10', conn)"
      ],
      "execution_count": null,
      "outputs": [
        {
          "output_type": "execute_result",
          "data": {
            "text/html": [
              "<div>\n",
              "<style scoped>\n",
              "    .dataframe tbody tr th:only-of-type {\n",
              "        vertical-align: middle;\n",
              "    }\n",
              "\n",
              "    .dataframe tbody tr th {\n",
              "        vertical-align: top;\n",
              "    }\n",
              "\n",
              "    .dataframe thead th {\n",
              "        text-align: right;\n",
              "    }\n",
              "</style>\n",
              "<table border=\"1\" class=\"dataframe\">\n",
              "  <thead>\n",
              "    <tr style=\"text-align: right;\">\n",
              "      <th></th>\n",
              "      <th>id</th>\n",
              "      <th>absolutely_random_value</th>\n",
              "    </tr>\n",
              "  </thead>\n",
              "  <tbody>\n",
              "    <tr>\n",
              "      <th>0</th>\n",
              "      <td>1</td>\n",
              "      <td>0.000000</td>\n",
              "    </tr>\n",
              "    <tr>\n",
              "      <th>1</th>\n",
              "      <td>2</td>\n",
              "      <td>0.066667</td>\n",
              "    </tr>\n",
              "    <tr>\n",
              "      <th>2</th>\n",
              "      <td>3</td>\n",
              "      <td>0.111111</td>\n",
              "    </tr>\n",
              "    <tr>\n",
              "      <th>3</th>\n",
              "      <td>4</td>\n",
              "      <td>0.300000</td>\n",
              "    </tr>\n",
              "    <tr>\n",
              "      <th>4</th>\n",
              "      <td>5</td>\n",
              "      <td>0.222222</td>\n",
              "    </tr>\n",
              "    <tr>\n",
              "      <th>5</th>\n",
              "      <td>6</td>\n",
              "      <td>0.277778</td>\n",
              "    </tr>\n",
              "    <tr>\n",
              "      <th>6</th>\n",
              "      <td>7</td>\n",
              "      <td>0.333333</td>\n",
              "    </tr>\n",
              "    <tr>\n",
              "      <th>7</th>\n",
              "      <td>8</td>\n",
              "      <td>0.538462</td>\n",
              "    </tr>\n",
              "    <tr>\n",
              "      <th>8</th>\n",
              "      <td>9</td>\n",
              "      <td>0.470588</td>\n",
              "    </tr>\n",
              "    <tr>\n",
              "      <th>9</th>\n",
              "      <td>10</td>\n",
              "      <td>0.562500</td>\n",
              "    </tr>\n",
              "  </tbody>\n",
              "</table>\n",
              "</div>"
            ],
            "text/plain": [
              "   id  absolutely_random_value\n",
              "0   1                 0.000000\n",
              "1   2                 0.066667\n",
              "2   3                 0.111111\n",
              "3   4                 0.300000\n",
              "4   5                 0.222222\n",
              "5   6                 0.277778\n",
              "6   7                 0.333333\n",
              "7   8                 0.538462\n",
              "8   9                 0.470588\n",
              "9  10                 0.562500"
            ]
          },
          "metadata": {
            "tags": []
          },
          "execution_count": 4
        }
      ]
    },
    {
      "cell_type": "code",
      "metadata": {
        "id": "81qOL0jEW9b9"
      },
      "source": [
        "# Добавим столбец по заданию\r\n",
        "cursor.execute(\r\n",
        "'''\r\n",
        "ALTER TABLE table1 ADD COLUMN row_count INTEGER;\r\n",
        "\r\n",
        "''')\r\n",
        "conn.commit()"
      ],
      "execution_count": null,
      "outputs": []
    },
    {
      "cell_type": "code",
      "metadata": {
        "id": "1EMX2fCgYvTD"
      },
      "source": [
        "# Присвоем значения каждой строке\r\n",
        "cursor.execute(\r\n",
        "'''\r\n",
        "UPDATE table1 SET row_count = (SELECT COUNT(*) FROM table1)\r\n",
        "\r\n",
        "''')\r\n",
        "conn.commit()"
      ],
      "execution_count": null,
      "outputs": []
    },
    {
      "cell_type": "code",
      "metadata": {
        "colab": {
          "base_uri": "https://localhost:8080/",
          "height": 419
        },
        "id": "P2aPK8iRZNLe",
        "outputId": "0a76d3ff-0a3a-4c08-f1c7-8eda51861994"
      },
      "source": [
        "# Посмотрим что получилось\r\n",
        "pd.read_sql('SELECT * FROM table1', conn)"
      ],
      "execution_count": null,
      "outputs": [
        {
          "output_type": "execute_result",
          "data": {
            "text/html": [
              "<div>\n",
              "<style scoped>\n",
              "    .dataframe tbody tr th:only-of-type {\n",
              "        vertical-align: middle;\n",
              "    }\n",
              "\n",
              "    .dataframe tbody tr th {\n",
              "        vertical-align: top;\n",
              "    }\n",
              "\n",
              "    .dataframe thead th {\n",
              "        text-align: right;\n",
              "    }\n",
              "</style>\n",
              "<table border=\"1\" class=\"dataframe\">\n",
              "  <thead>\n",
              "    <tr style=\"text-align: right;\">\n",
              "      <th></th>\n",
              "      <th>id</th>\n",
              "      <th>absolutely_random_value</th>\n",
              "      <th>row_count</th>\n",
              "    </tr>\n",
              "  </thead>\n",
              "  <tbody>\n",
              "    <tr>\n",
              "      <th>0</th>\n",
              "      <td>1</td>\n",
              "      <td>0.000000</td>\n",
              "      <td>10756</td>\n",
              "    </tr>\n",
              "    <tr>\n",
              "      <th>1</th>\n",
              "      <td>2</td>\n",
              "      <td>0.066667</td>\n",
              "      <td>10756</td>\n",
              "    </tr>\n",
              "    <tr>\n",
              "      <th>2</th>\n",
              "      <td>3</td>\n",
              "      <td>0.111111</td>\n",
              "      <td>10756</td>\n",
              "    </tr>\n",
              "    <tr>\n",
              "      <th>3</th>\n",
              "      <td>4</td>\n",
              "      <td>0.300000</td>\n",
              "      <td>10756</td>\n",
              "    </tr>\n",
              "    <tr>\n",
              "      <th>4</th>\n",
              "      <td>5</td>\n",
              "      <td>0.222222</td>\n",
              "      <td>10756</td>\n",
              "    </tr>\n",
              "    <tr>\n",
              "      <th>...</th>\n",
              "      <td>...</td>\n",
              "      <td>...</td>\n",
              "      <td>...</td>\n",
              "    </tr>\n",
              "    <tr>\n",
              "      <th>10751</th>\n",
              "      <td>10752</td>\n",
              "      <td>565.842105</td>\n",
              "      <td>10756</td>\n",
              "    </tr>\n",
              "    <tr>\n",
              "      <th>10752</th>\n",
              "      <td>10753</td>\n",
              "      <td>1075.200000</td>\n",
              "      <td>10756</td>\n",
              "    </tr>\n",
              "    <tr>\n",
              "      <th>10753</th>\n",
              "      <td>10754</td>\n",
              "      <td>896.083333</td>\n",
              "      <td>10756</td>\n",
              "    </tr>\n",
              "    <tr>\n",
              "      <th>10754</th>\n",
              "      <td>10755</td>\n",
              "      <td>566.000000</td>\n",
              "      <td>10756</td>\n",
              "    </tr>\n",
              "    <tr>\n",
              "      <th>10755</th>\n",
              "      <td>10756</td>\n",
              "      <td>597.500000</td>\n",
              "      <td>10756</td>\n",
              "    </tr>\n",
              "  </tbody>\n",
              "</table>\n",
              "<p>10756 rows × 3 columns</p>\n",
              "</div>"
            ],
            "text/plain": [
              "          id  absolutely_random_value  row_count\n",
              "0          1                 0.000000      10756\n",
              "1          2                 0.066667      10756\n",
              "2          3                 0.111111      10756\n",
              "3          4                 0.300000      10756\n",
              "4          5                 0.222222      10756\n",
              "...      ...                      ...        ...\n",
              "10751  10752               565.842105      10756\n",
              "10752  10753              1075.200000      10756\n",
              "10753  10754               896.083333      10756\n",
              "10754  10755               566.000000      10756\n",
              "10755  10756               597.500000      10756\n",
              "\n",
              "[10756 rows x 3 columns]"
            ]
          },
          "metadata": {
            "tags": []
          },
          "execution_count": 7
        }
      ]
    }
  ]
}