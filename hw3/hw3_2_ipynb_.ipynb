{
  "nbformat": 4,
  "nbformat_minor": 0,
  "metadata": {
    "colab": {
      "name": "hw3/2.ipynb\"",
      "provenance": [],
      "collapsed_sections": []
    },
    "kernelspec": {
      "name": "python3",
      "display_name": "Python 3"
    }
  },
  "cells": [
    {
      "cell_type": "markdown",
      "metadata": {
        "id": "oxiJ88hpaPg4"
      },
      "source": [
        "Ссылка на colab:\r\n",
        "https://colab.research.google.com/drive/1nG02wNFQsjIM--jqv0r-XFAr1MNo8KFa?usp=sharing"
      ]
    },
    {
      "cell_type": "markdown",
      "metadata": {
        "id": "sVt9Gn6oPL9h"
      },
      "source": [
        "## Домашнее задание. Часть 2.\n",
        "\n",
        "\n",
        "Вего за эту часть ДЗ можно набрать максимум **8.5 баллов**. Разбиение баллов по каждой из задач представлено непосредственно перед текстом каждой задачи.\n",
        "\n",
        "**Дедлайн - пятница, 11.12.2020 в 23:59.**\n",
        "\n",
        "Дедлайн жесткий, сдача после дедлайна - 0 баллов за ДЗ.\n",
        "\n",
        "В этой части ДЗ Вам необходимо будет работать с датасетами - все они лежат в репозитории курса, а именно https://github.com/ddvika/Data-Science-School-2020/tree/main/hw_intermediate в папке `\"materials\"`\n",
        "\n",
        "а также на гугл диске:\n",
        "https://drive.google.com/drive/folders/1mvcBvJ_2341foynNnvmkJh3EJdS4_b4m?usp=sharing\n",
        "\n",
        "Вы можете обойтись и без скачивания, тк все данные импортируются напрямую из гитхаб"
      ]
    },
    {
      "cell_type": "markdown",
      "metadata": {
        "id": "LeUfW2A1PVqp"
      },
      "source": [
        "# Задание 1\n",
        "файл 'file_example_XLSX_1000.xlsx' лежит в репозитории и на гугл диске по ссылке выше"
      ]
    },
    {
      "cell_type": "markdown",
      "metadata": {
        "id": "5TBfORBwQXPQ"
      },
      "source": [
        "**0.5 point**\n",
        "\n",
        "- убрать ненужный столбец Unnamed\n",
        "\n",
        "**0.5 point**\n",
        "- Отсортировать людей по возрасту\n",
        "\n",
        "**0.5 point**\n",
        "- разделить людей по полу (сохраните в переменные female, male)\n",
        "\n",
        "**1 point**\n",
        "- построить гистограмму возрастов для мужчин и гистограмму возрастов для женщин"
      ]
    },
    {
      "cell_type": "code",
      "metadata": {
        "colab": {
          "base_uri": "https://localhost:8080/",
          "height": 419
        },
        "id": "utpj-YhpPNCe",
        "outputId": "70243578-c3c6-4b3d-b9cf-77fce58dd62c"
      },
      "source": [
        "import pandas as pd\n",
        "df = pd.read_excel('https://github.com/ddvika/Data-Science-School-2020/blob/main/hw_intermediate/materials/file_example_XLSX_1000.xlsx?raw=true')\n",
        "df"
      ],
      "execution_count": null,
      "outputs": [
        {
          "output_type": "execute_result",
          "data": {
            "text/html": [
              "<div>\n",
              "<style scoped>\n",
              "    .dataframe tbody tr th:only-of-type {\n",
              "        vertical-align: middle;\n",
              "    }\n",
              "\n",
              "    .dataframe tbody tr th {\n",
              "        vertical-align: top;\n",
              "    }\n",
              "\n",
              "    .dataframe thead th {\n",
              "        text-align: right;\n",
              "    }\n",
              "</style>\n",
              "<table border=\"1\" class=\"dataframe\">\n",
              "  <thead>\n",
              "    <tr style=\"text-align: right;\">\n",
              "      <th></th>\n",
              "      <th>Unnamed: 0</th>\n",
              "      <th>First Name</th>\n",
              "      <th>Last Name</th>\n",
              "      <th>Gender</th>\n",
              "      <th>Country</th>\n",
              "      <th>Age</th>\n",
              "      <th>Date</th>\n",
              "      <th>Id</th>\n",
              "    </tr>\n",
              "  </thead>\n",
              "  <tbody>\n",
              "    <tr>\n",
              "      <th>0</th>\n",
              "      <td>1</td>\n",
              "      <td>Dulce</td>\n",
              "      <td>Abril</td>\n",
              "      <td>Female</td>\n",
              "      <td>United States</td>\n",
              "      <td>32</td>\n",
              "      <td>15/10/2017</td>\n",
              "      <td>1562</td>\n",
              "    </tr>\n",
              "    <tr>\n",
              "      <th>1</th>\n",
              "      <td>2</td>\n",
              "      <td>Mara</td>\n",
              "      <td>Hashimoto</td>\n",
              "      <td>Female</td>\n",
              "      <td>Great Britain</td>\n",
              "      <td>25</td>\n",
              "      <td>16/08/2016</td>\n",
              "      <td>1582</td>\n",
              "    </tr>\n",
              "    <tr>\n",
              "      <th>2</th>\n",
              "      <td>3</td>\n",
              "      <td>Philip</td>\n",
              "      <td>Gent</td>\n",
              "      <td>Male</td>\n",
              "      <td>France</td>\n",
              "      <td>36</td>\n",
              "      <td>21/05/2015</td>\n",
              "      <td>2587</td>\n",
              "    </tr>\n",
              "    <tr>\n",
              "      <th>3</th>\n",
              "      <td>4</td>\n",
              "      <td>Kathleen</td>\n",
              "      <td>Hanner</td>\n",
              "      <td>Female</td>\n",
              "      <td>United States</td>\n",
              "      <td>25</td>\n",
              "      <td>15/10/2017</td>\n",
              "      <td>3549</td>\n",
              "    </tr>\n",
              "    <tr>\n",
              "      <th>4</th>\n",
              "      <td>5</td>\n",
              "      <td>Nereida</td>\n",
              "      <td>Magwood</td>\n",
              "      <td>Female</td>\n",
              "      <td>United States</td>\n",
              "      <td>58</td>\n",
              "      <td>16/08/2016</td>\n",
              "      <td>2468</td>\n",
              "    </tr>\n",
              "    <tr>\n",
              "      <th>...</th>\n",
              "      <td>...</td>\n",
              "      <td>...</td>\n",
              "      <td>...</td>\n",
              "      <td>...</td>\n",
              "      <td>...</td>\n",
              "      <td>...</td>\n",
              "      <td>...</td>\n",
              "      <td>...</td>\n",
              "    </tr>\n",
              "    <tr>\n",
              "      <th>995</th>\n",
              "      <td>996</td>\n",
              "      <td>Roma</td>\n",
              "      <td>Lafollette</td>\n",
              "      <td>Female</td>\n",
              "      <td>United States</td>\n",
              "      <td>34</td>\n",
              "      <td>15/10/2017</td>\n",
              "      <td>2654</td>\n",
              "    </tr>\n",
              "    <tr>\n",
              "      <th>996</th>\n",
              "      <td>997</td>\n",
              "      <td>Felisa</td>\n",
              "      <td>Cail</td>\n",
              "      <td>Female</td>\n",
              "      <td>United States</td>\n",
              "      <td>28</td>\n",
              "      <td>16/08/2016</td>\n",
              "      <td>6525</td>\n",
              "    </tr>\n",
              "    <tr>\n",
              "      <th>997</th>\n",
              "      <td>998</td>\n",
              "      <td>Demetria</td>\n",
              "      <td>Abbey</td>\n",
              "      <td>Female</td>\n",
              "      <td>United States</td>\n",
              "      <td>32</td>\n",
              "      <td>21/05/2015</td>\n",
              "      <td>3265</td>\n",
              "    </tr>\n",
              "    <tr>\n",
              "      <th>998</th>\n",
              "      <td>999</td>\n",
              "      <td>Jeromy</td>\n",
              "      <td>Danz</td>\n",
              "      <td>Male</td>\n",
              "      <td>United States</td>\n",
              "      <td>39</td>\n",
              "      <td>15/10/2017</td>\n",
              "      <td>3265</td>\n",
              "    </tr>\n",
              "    <tr>\n",
              "      <th>999</th>\n",
              "      <td>1000</td>\n",
              "      <td>Rasheeda</td>\n",
              "      <td>Alkire</td>\n",
              "      <td>Female</td>\n",
              "      <td>United States</td>\n",
              "      <td>29</td>\n",
              "      <td>16/08/2016</td>\n",
              "      <td>6125</td>\n",
              "    </tr>\n",
              "  </tbody>\n",
              "</table>\n",
              "<p>1000 rows × 8 columns</p>\n",
              "</div>"
            ],
            "text/plain": [
              "     Unnamed: 0 First Name   Last Name  ... Age        Date    Id\n",
              "0             1      Dulce       Abril  ...  32  15/10/2017  1562\n",
              "1             2       Mara   Hashimoto  ...  25  16/08/2016  1582\n",
              "2             3     Philip        Gent  ...  36  21/05/2015  2587\n",
              "3             4   Kathleen      Hanner  ...  25  15/10/2017  3549\n",
              "4             5    Nereida     Magwood  ...  58  16/08/2016  2468\n",
              "..          ...        ...         ...  ...  ..         ...   ...\n",
              "995         996       Roma  Lafollette  ...  34  15/10/2017  2654\n",
              "996         997     Felisa        Cail  ...  28  16/08/2016  6525\n",
              "997         998   Demetria       Abbey  ...  32  21/05/2015  3265\n",
              "998         999     Jeromy        Danz  ...  39  15/10/2017  3265\n",
              "999        1000   Rasheeda      Alkire  ...  29  16/08/2016  6125\n",
              "\n",
              "[1000 rows x 8 columns]"
            ]
          },
          "metadata": {
            "tags": []
          },
          "execution_count": 1
        }
      ]
    },
    {
      "cell_type": "code",
      "metadata": {
        "id": "tB25_D_zPNFV"
      },
      "source": [
        "# убрать ненужный столбец Unnamed\n",
        "# Отсортировать людей по возрасту\n",
        "del df['Unnamed: 0']\n",
        "df.sort_values(by='Age', inplace=True)"
      ],
      "execution_count": null,
      "outputs": []
    },
    {
      "cell_type": "code",
      "metadata": {
        "colab": {
          "base_uri": "https://localhost:8080/",
          "height": 419
        },
        "id": "0obXtymdiG50",
        "outputId": "7ec6c305-7fa7-45b3-d49f-775562fd2de9"
      },
      "source": [
        "df"
      ],
      "execution_count": null,
      "outputs": [
        {
          "output_type": "execute_result",
          "data": {
            "text/html": [
              "<div>\n",
              "<style scoped>\n",
              "    .dataframe tbody tr th:only-of-type {\n",
              "        vertical-align: middle;\n",
              "    }\n",
              "\n",
              "    .dataframe tbody tr th {\n",
              "        vertical-align: top;\n",
              "    }\n",
              "\n",
              "    .dataframe thead th {\n",
              "        text-align: right;\n",
              "    }\n",
              "</style>\n",
              "<table border=\"1\" class=\"dataframe\">\n",
              "  <thead>\n",
              "    <tr style=\"text-align: right;\">\n",
              "      <th></th>\n",
              "      <th>First Name</th>\n",
              "      <th>Last Name</th>\n",
              "      <th>Gender</th>\n",
              "      <th>Country</th>\n",
              "      <th>Age</th>\n",
              "      <th>Date</th>\n",
              "      <th>Id</th>\n",
              "    </tr>\n",
              "  </thead>\n",
              "  <tbody>\n",
              "    <tr>\n",
              "      <th>824</th>\n",
              "      <td>Lester</td>\n",
              "      <td>Prothro</td>\n",
              "      <td>Male</td>\n",
              "      <td>France</td>\n",
              "      <td>21</td>\n",
              "      <td>15/10/2017</td>\n",
              "      <td>6574</td>\n",
              "    </tr>\n",
              "    <tr>\n",
              "      <th>24</th>\n",
              "      <td>Lester</td>\n",
              "      <td>Prothro</td>\n",
              "      <td>Male</td>\n",
              "      <td>France</td>\n",
              "      <td>21</td>\n",
              "      <td>15/10/2017</td>\n",
              "      <td>6574</td>\n",
              "    </tr>\n",
              "    <tr>\n",
              "      <th>574</th>\n",
              "      <td>Lester</td>\n",
              "      <td>Prothro</td>\n",
              "      <td>Male</td>\n",
              "      <td>France</td>\n",
              "      <td>21</td>\n",
              "      <td>15/10/2017</td>\n",
              "      <td>6574</td>\n",
              "    </tr>\n",
              "    <tr>\n",
              "      <th>324</th>\n",
              "      <td>Lester</td>\n",
              "      <td>Prothro</td>\n",
              "      <td>Male</td>\n",
              "      <td>France</td>\n",
              "      <td>21</td>\n",
              "      <td>15/10/2017</td>\n",
              "      <td>6574</td>\n",
              "    </tr>\n",
              "    <tr>\n",
              "      <th>124</th>\n",
              "      <td>Lester</td>\n",
              "      <td>Prothro</td>\n",
              "      <td>Male</td>\n",
              "      <td>France</td>\n",
              "      <td>21</td>\n",
              "      <td>15/10/2017</td>\n",
              "      <td>6574</td>\n",
              "    </tr>\n",
              "    <tr>\n",
              "      <th>...</th>\n",
              "      <td>...</td>\n",
              "      <td>...</td>\n",
              "      <td>...</td>\n",
              "      <td>...</td>\n",
              "      <td>...</td>\n",
              "      <td>...</td>\n",
              "      <td>...</td>\n",
              "    </tr>\n",
              "    <tr>\n",
              "      <th>954</th>\n",
              "      <td>Nereida</td>\n",
              "      <td>Magwood</td>\n",
              "      <td>Female</td>\n",
              "      <td>United States</td>\n",
              "      <td>58</td>\n",
              "      <td>16/08/2016</td>\n",
              "      <td>2468</td>\n",
              "    </tr>\n",
              "    <tr>\n",
              "      <th>54</th>\n",
              "      <td>Nereida</td>\n",
              "      <td>Magwood</td>\n",
              "      <td>Female</td>\n",
              "      <td>United States</td>\n",
              "      <td>58</td>\n",
              "      <td>16/08/2016</td>\n",
              "      <td>2468</td>\n",
              "    </tr>\n",
              "    <tr>\n",
              "      <th>654</th>\n",
              "      <td>Nereida</td>\n",
              "      <td>Magwood</td>\n",
              "      <td>Female</td>\n",
              "      <td>United States</td>\n",
              "      <td>58</td>\n",
              "      <td>16/08/2016</td>\n",
              "      <td>2468</td>\n",
              "    </tr>\n",
              "    <tr>\n",
              "      <th>504</th>\n",
              "      <td>Nereida</td>\n",
              "      <td>Magwood</td>\n",
              "      <td>Female</td>\n",
              "      <td>United States</td>\n",
              "      <td>58</td>\n",
              "      <td>16/08/2016</td>\n",
              "      <td>2468</td>\n",
              "    </tr>\n",
              "    <tr>\n",
              "      <th>154</th>\n",
              "      <td>Nereida</td>\n",
              "      <td>Magwood</td>\n",
              "      <td>Female</td>\n",
              "      <td>United States</td>\n",
              "      <td>58</td>\n",
              "      <td>16/08/2016</td>\n",
              "      <td>2468</td>\n",
              "    </tr>\n",
              "  </tbody>\n",
              "</table>\n",
              "<p>1000 rows × 7 columns</p>\n",
              "</div>"
            ],
            "text/plain": [
              "    First Name Last Name  Gender        Country  Age        Date    Id\n",
              "824     Lester   Prothro    Male         France   21  15/10/2017  6574\n",
              "24      Lester   Prothro    Male         France   21  15/10/2017  6574\n",
              "574     Lester   Prothro    Male         France   21  15/10/2017  6574\n",
              "324     Lester   Prothro    Male         France   21  15/10/2017  6574\n",
              "124     Lester   Prothro    Male         France   21  15/10/2017  6574\n",
              "..         ...       ...     ...            ...  ...         ...   ...\n",
              "954    Nereida   Magwood  Female  United States   58  16/08/2016  2468\n",
              "54     Nereida   Magwood  Female  United States   58  16/08/2016  2468\n",
              "654    Nereida   Magwood  Female  United States   58  16/08/2016  2468\n",
              "504    Nereida   Magwood  Female  United States   58  16/08/2016  2468\n",
              "154    Nereida   Magwood  Female  United States   58  16/08/2016  2468\n",
              "\n",
              "[1000 rows x 7 columns]"
            ]
          },
          "metadata": {
            "tags": []
          },
          "execution_count": 3
        }
      ]
    },
    {
      "cell_type": "code",
      "metadata": {
        "id": "z_SHch7bic_k"
      },
      "source": [
        "# разделить людей по полу (сохраните в переменные female, male)\n",
        "\n",
        "'''\n",
        "groups = df.groupby(['Gender'])\n",
        "male = groups.get_group('Male')\n",
        "female = groups.get_group('Female')\n",
        "'''\n",
        "male = df[df['Gender'] == 'Male']\n",
        "female = df[df['Gender'] == 'Female']"
      ],
      "execution_count": null,
      "outputs": []
    },
    {
      "cell_type": "code",
      "metadata": {
        "id": "LbdGnstyj0Ia"
      },
      "source": [
        "import matplotlib.pyplot  as plt\n",
        "%matplotlib inline"
      ],
      "execution_count": null,
      "outputs": []
    },
    {
      "cell_type": "code",
      "metadata": {
        "colab": {
          "base_uri": "https://localhost:8080/",
          "height": 374
        },
        "id": "-cpIr4tKlrmQ",
        "outputId": "c48c7318-600f-4ecb-c8cc-1a5ebce7fdc7"
      },
      "source": [
        "# построить гистограмму возрастов для мужчин и гистограмму возрастов для женщин\n",
        "plt.figure(figsize=(13,6))\n",
        "plt.hist(female.Age, alpha=0.5, label = 'Female', bins=17)\n",
        "plt.hist(male.Age, alpha=0.5, label = 'Male', bins=17)\n",
        "plt.legend(loc = 'upper right')\n",
        "plt.show()"
      ],
      "execution_count": null,
      "outputs": [
        {
          "output_type": "display_data",
          "data": {
            "image/png": "[encoded data removed]",
            "text/plain": [
              "<Figure size 936x432 with 1 Axes>"
            ]
          },
          "metadata": {
            "tags": [],
            "needs_background": "light"
          }
        }
      ]
    },
    {
      "cell_type": "markdown",
      "metadata": {
        "id": "5taxu3miSr6l"
      },
      "source": [
        "# Задание 2\n",
        " "
      ]
    },
    {
      "cell_type": "code",
      "metadata": {
        "colab": {
          "base_uri": "https://localhost:8080/",
          "height": 419
        },
        "id": "bufkpwAYPNIP",
        "outputId": "4381b0e7-fdab-4db9-e8af-84caa2fb7355"
      },
      "source": [
        "df = pd.read_csv('https://raw.githubusercontent.com/ddvika/Data-Science-School-2020/main/hw_intermediate/materials/appl_1980_2014.csv')\n",
        "df"
      ],
      "execution_count": null,
      "outputs": [
        {
          "output_type": "execute_result",
          "data": {
            "text/html": [
              "<div>\n",
              "<style scoped>\n",
              "    .dataframe tbody tr th:only-of-type {\n",
              "        vertical-align: middle;\n",
              "    }\n",
              "\n",
              "    .dataframe tbody tr th {\n",
              "        vertical-align: top;\n",
              "    }\n",
              "\n",
              "    .dataframe thead th {\n",
              "        text-align: right;\n",
              "    }\n",
              "</style>\n",
              "<table border=\"1\" class=\"dataframe\">\n",
              "  <thead>\n",
              "    <tr style=\"text-align: right;\">\n",
              "      <th></th>\n",
              "      <th>Unnamed: 0</th>\n",
              "      <th>Date</th>\n",
              "      <th>Open</th>\n",
              "      <th>High</th>\n",
              "      <th>Low</th>\n",
              "      <th>Close</th>\n",
              "      <th>Volume</th>\n",
              "      <th>Adj Close</th>\n",
              "    </tr>\n",
              "  </thead>\n",
              "  <tbody>\n",
              "    <tr>\n",
              "      <th>0</th>\n",
              "      <td>0</td>\n",
              "      <td>2014-07-08</td>\n",
              "      <td>96.27</td>\n",
              "      <td>96.80</td>\n",
              "      <td>93.92</td>\n",
              "      <td>95.35</td>\n",
              "      <td>65130000</td>\n",
              "      <td>95.35</td>\n",
              "    </tr>\n",
              "    <tr>\n",
              "      <th>1</th>\n",
              "      <td>1</td>\n",
              "      <td>2014-07-07</td>\n",
              "      <td>94.14</td>\n",
              "      <td>95.99</td>\n",
              "      <td>94.10</td>\n",
              "      <td>95.97</td>\n",
              "      <td>56305400</td>\n",
              "      <td>95.97</td>\n",
              "    </tr>\n",
              "    <tr>\n",
              "      <th>2</th>\n",
              "      <td>2</td>\n",
              "      <td>2014-07-03</td>\n",
              "      <td>93.67</td>\n",
              "      <td>94.10</td>\n",
              "      <td>93.20</td>\n",
              "      <td>94.03</td>\n",
              "      <td>22891800</td>\n",
              "      <td>94.03</td>\n",
              "    </tr>\n",
              "    <tr>\n",
              "      <th>3</th>\n",
              "      <td>3</td>\n",
              "      <td>2014-07-02</td>\n",
              "      <td>93.87</td>\n",
              "      <td>94.06</td>\n",
              "      <td>93.09</td>\n",
              "      <td>93.48</td>\n",
              "      <td>28420900</td>\n",
              "      <td>93.48</td>\n",
              "    </tr>\n",
              "    <tr>\n",
              "      <th>4</th>\n",
              "      <td>4</td>\n",
              "      <td>2014-07-01</td>\n",
              "      <td>93.52</td>\n",
              "      <td>94.07</td>\n",
              "      <td>93.13</td>\n",
              "      <td>93.52</td>\n",
              "      <td>38170200</td>\n",
              "      <td>93.52</td>\n",
              "    </tr>\n",
              "    <tr>\n",
              "      <th>...</th>\n",
              "      <td>...</td>\n",
              "      <td>...</td>\n",
              "      <td>...</td>\n",
              "      <td>...</td>\n",
              "      <td>...</td>\n",
              "      <td>...</td>\n",
              "      <td>...</td>\n",
              "      <td>...</td>\n",
              "    </tr>\n",
              "    <tr>\n",
              "      <th>8460</th>\n",
              "      <td>8460</td>\n",
              "      <td>1980-12-18</td>\n",
              "      <td>26.63</td>\n",
              "      <td>26.75</td>\n",
              "      <td>26.63</td>\n",
              "      <td>26.63</td>\n",
              "      <td>18362400</td>\n",
              "      <td>0.41</td>\n",
              "    </tr>\n",
              "    <tr>\n",
              "      <th>8461</th>\n",
              "      <td>8461</td>\n",
              "      <td>1980-12-17</td>\n",
              "      <td>25.87</td>\n",
              "      <td>26.00</td>\n",
              "      <td>25.87</td>\n",
              "      <td>25.87</td>\n",
              "      <td>21610400</td>\n",
              "      <td>0.40</td>\n",
              "    </tr>\n",
              "    <tr>\n",
              "      <th>8462</th>\n",
              "      <td>8462</td>\n",
              "      <td>1980-12-16</td>\n",
              "      <td>25.37</td>\n",
              "      <td>25.37</td>\n",
              "      <td>25.25</td>\n",
              "      <td>25.25</td>\n",
              "      <td>26432000</td>\n",
              "      <td>0.39</td>\n",
              "    </tr>\n",
              "    <tr>\n",
              "      <th>8463</th>\n",
              "      <td>8463</td>\n",
              "      <td>1980-12-15</td>\n",
              "      <td>27.38</td>\n",
              "      <td>27.38</td>\n",
              "      <td>27.25</td>\n",
              "      <td>27.25</td>\n",
              "      <td>43971200</td>\n",
              "      <td>0.42</td>\n",
              "    </tr>\n",
              "    <tr>\n",
              "      <th>8464</th>\n",
              "      <td>8464</td>\n",
              "      <td>1980-12-12</td>\n",
              "      <td>28.75</td>\n",
              "      <td>28.87</td>\n",
              "      <td>28.75</td>\n",
              "      <td>28.75</td>\n",
              "      <td>117258400</td>\n",
              "      <td>0.45</td>\n",
              "    </tr>\n",
              "  </tbody>\n",
              "</table>\n",
              "<p>8465 rows × 8 columns</p>\n",
              "</div>"
            ],
            "text/plain": [
              "      Unnamed: 0        Date   Open   High    Low  Close     Volume  Adj Close\n",
              "0              0  2014-07-08  96.27  96.80  93.92  95.35   65130000      95.35\n",
              "1              1  2014-07-07  94.14  95.99  94.10  95.97   56305400      95.97\n",
              "2              2  2014-07-03  93.67  94.10  93.20  94.03   22891800      94.03\n",
              "3              3  2014-07-02  93.87  94.06  93.09  93.48   28420900      93.48\n",
              "4              4  2014-07-01  93.52  94.07  93.13  93.52   38170200      93.52\n",
              "...          ...         ...    ...    ...    ...    ...        ...        ...\n",
              "8460        8460  1980-12-18  26.63  26.75  26.63  26.63   18362400       0.41\n",
              "8461        8461  1980-12-17  25.87  26.00  25.87  25.87   21610400       0.40\n",
              "8462        8462  1980-12-16  25.37  25.37  25.25  25.25   26432000       0.39\n",
              "8463        8463  1980-12-15  27.38  27.38  27.25  27.25   43971200       0.42\n",
              "8464        8464  1980-12-12  28.75  28.87  28.75  28.75  117258400       0.45\n",
              "\n",
              "[8465 rows x 8 columns]"
            ]
          },
          "metadata": {
            "tags": []
          },
          "execution_count": 7
        }
      ]
    },
    {
      "cell_type": "markdown",
      "metadata": {
        "id": "ltZV5S5TUXUC"
      },
      "source": [
        "**0.5 point**\n",
        "- убрать ненужный столбец Unnamed\n",
        "\n",
        "**0.5 point**\n",
        "- Проверьте тип данных в столбцах\n",
        "\n",
        "**0.5 point**\n",
        "- Преобразуйте столбец Date в тип datetime\n",
        "\n",
        "**0.5 point**\n",
        "- Установите дату в качестве индекса\n",
        "\n",
        "**0.5 point**\n",
        "- Есть ли повторяющиеся даты?\n",
        "\n",
        "**0.5 point**\n",
        "- Получите последний рабочий день каждого месяца\n",
        "\n",
        "**0.5 point**\n",
        "- Какая разница в днях между первым днем и самым давним?\n",
        "\n",
        "**0.5 point**\n",
        "- Сколько месяцев у нас есть в данных?\n",
        "\n",
        "**0.5 point**\n",
        "-  Постройте значение «Adj Close». Установите размер рисунка 13,5 х 9 дюймов.\n",
        "\n",
        "**Доп. задание (макс балл 1.5)**\n",
        "- Придумайте собственные вопросы и ответьте на них. Также можете нарисовать какие-то интересные графики.\n"
      ]
    },
    {
      "cell_type": "code",
      "metadata": {
        "id": "ZdTeTiF0PNQO"
      },
      "source": [
        "# убрать ненужный столбец Unnamed\n",
        "del df['Unnamed: 0']"
      ],
      "execution_count": null,
      "outputs": []
    },
    {
      "cell_type": "code",
      "metadata": {
        "colab": {
          "base_uri": "https://localhost:8080/"
        },
        "id": "skqcp5kSxG-2",
        "outputId": "9915fede-2cd0-4845-a326-375b7bae69a3"
      },
      "source": [
        "# Проверьте тип данных в столбцах\n",
        "df.dtypes"
      ],
      "execution_count": null,
      "outputs": [
        {
          "output_type": "execute_result",
          "data": {
            "text/plain": [
              "Date          object\n",
              "Open         float64\n",
              "High         float64\n",
              "Low          float64\n",
              "Close        float64\n",
              "Volume         int64\n",
              "Adj Close    float64\n",
              "dtype: object"
            ]
          },
          "metadata": {
            "tags": []
          },
          "execution_count": 9
        }
      ]
    },
    {
      "cell_type": "code",
      "metadata": {
        "id": "EVClFquDxZg1"
      },
      "source": [
        "# Преобразуйте столбец Date в тип datetime\n",
        "df['Date'] = pd.to_datetime(df['Date'])"
      ],
      "execution_count": null,
      "outputs": []
    },
    {
      "cell_type": "code",
      "metadata": {
        "colab": {
          "base_uri": "https://localhost:8080/"
        },
        "id": "BsDNIKM5yGD4",
        "outputId": "2bab9c5e-d378-4a5f-82c5-427ca7e83926"
      },
      "source": [
        "# Установите дату в качестве индекса\n",
        "new_df = df.set_index('Date')\n",
        "new_df.index"
      ],
      "execution_count": null,
      "outputs": [
        {
          "output_type": "execute_result",
          "data": {
            "text/plain": [
              "DatetimeIndex(['2014-07-08', '2014-07-07', '2014-07-03', '2014-07-02',\n",
              "               '2014-07-01', '2014-06-30', '2014-06-27', '2014-06-26',\n",
              "               '2014-06-25', '2014-06-24',\n",
              "               ...\n",
              "               '1980-12-26', '1980-12-24', '1980-12-23', '1980-12-22',\n",
              "               '1980-12-19', '1980-12-18', '1980-12-17', '1980-12-16',\n",
              "               '1980-12-15', '1980-12-12'],\n",
              "              dtype='datetime64[ns]', name='Date', length=8465, freq=None)"
            ]
          },
          "metadata": {
            "tags": []
          },
          "execution_count": 11
        }
      ]
    },
    {
      "cell_type": "code",
      "metadata": {
        "colab": {
          "base_uri": "https://localhost:8080/"
        },
        "id": "HKkc52ED68kr",
        "outputId": "25d02e24-5b39-45f1-d20f-0beca1ff30b4"
      },
      "source": [
        "# Есть ли повторы даты\n",
        "new_df.sort_index(ascending=True, inplace=True) # Отсортируем\n",
        "any(new_df.index[new_df.index.duplicated()])"
      ],
      "execution_count": null,
      "outputs": [
        {
          "output_type": "execute_result",
          "data": {
            "text/plain": [
              "False"
            ]
          },
          "metadata": {
            "tags": []
          },
          "execution_count": 14
        }
      ]
    },
    {
      "cell_type": "code",
      "metadata": {
        "colab": {
          "base_uri": "https://localhost:8080/",
          "height": 450
        },
        "id": "e_I7HjVV0Rbx",
        "outputId": "9a07d73c-4e1c-4fc2-a980-15b7d7924bc1"
      },
      "source": [
        "# Получите последний рабочий день каждого месяца\n",
        "new_df.resample('BM').apply(lambda x: x[-1])"
      ],
      "execution_count": null,
      "outputs": [
        {
          "output_type": "execute_result",
          "data": {
            "text/html": [
              "<div>\n",
              "<style scoped>\n",
              "    .dataframe tbody tr th:only-of-type {\n",
              "        vertical-align: middle;\n",
              "    }\n",
              "\n",
              "    .dataframe tbody tr th {\n",
              "        vertical-align: top;\n",
              "    }\n",
              "\n",
              "    .dataframe thead th {\n",
              "        text-align: right;\n",
              "    }\n",
              "</style>\n",
              "<table border=\"1\" class=\"dataframe\">\n",
              "  <thead>\n",
              "    <tr style=\"text-align: right;\">\n",
              "      <th></th>\n",
              "      <th>Open</th>\n",
              "      <th>High</th>\n",
              "      <th>Low</th>\n",
              "      <th>Close</th>\n",
              "      <th>Volume</th>\n",
              "      <th>Adj Close</th>\n",
              "    </tr>\n",
              "    <tr>\n",
              "      <th>Date</th>\n",
              "      <th></th>\n",
              "      <th></th>\n",
              "      <th></th>\n",
              "      <th></th>\n",
              "      <th></th>\n",
              "      <th></th>\n",
              "    </tr>\n",
              "  </thead>\n",
              "  <tbody>\n",
              "    <tr>\n",
              "      <th>1980-12-31</th>\n",
              "      <td>34.25</td>\n",
              "      <td>34.25</td>\n",
              "      <td>34.13</td>\n",
              "      <td>34.13</td>\n",
              "      <td>8937600</td>\n",
              "      <td>0.53</td>\n",
              "    </tr>\n",
              "    <tr>\n",
              "      <th>1981-01-30</th>\n",
              "      <td>28.50</td>\n",
              "      <td>28.50</td>\n",
              "      <td>28.25</td>\n",
              "      <td>28.25</td>\n",
              "      <td>11547200</td>\n",
              "      <td>0.44</td>\n",
              "    </tr>\n",
              "    <tr>\n",
              "      <th>1981-02-27</th>\n",
              "      <td>26.50</td>\n",
              "      <td>26.75</td>\n",
              "      <td>26.50</td>\n",
              "      <td>26.50</td>\n",
              "      <td>3690400</td>\n",
              "      <td>0.41</td>\n",
              "    </tr>\n",
              "    <tr>\n",
              "      <th>1981-03-31</th>\n",
              "      <td>24.75</td>\n",
              "      <td>24.75</td>\n",
              "      <td>24.50</td>\n",
              "      <td>24.50</td>\n",
              "      <td>3998400</td>\n",
              "      <td>0.38</td>\n",
              "    </tr>\n",
              "    <tr>\n",
              "      <th>1981-04-30</th>\n",
              "      <td>28.38</td>\n",
              "      <td>28.62</td>\n",
              "      <td>28.38</td>\n",
              "      <td>28.38</td>\n",
              "      <td>3152800</td>\n",
              "      <td>0.44</td>\n",
              "    </tr>\n",
              "    <tr>\n",
              "      <th>...</th>\n",
              "      <td>...</td>\n",
              "      <td>...</td>\n",
              "      <td>...</td>\n",
              "      <td>...</td>\n",
              "      <td>...</td>\n",
              "      <td>...</td>\n",
              "    </tr>\n",
              "    <tr>\n",
              "      <th>2014-03-31</th>\n",
              "      <td>539.23</td>\n",
              "      <td>540.81</td>\n",
              "      <td>535.93</td>\n",
              "      <td>536.74</td>\n",
              "      <td>42167300</td>\n",
              "      <td>76.25</td>\n",
              "    </tr>\n",
              "    <tr>\n",
              "      <th>2014-04-30</th>\n",
              "      <td>592.64</td>\n",
              "      <td>599.43</td>\n",
              "      <td>589.80</td>\n",
              "      <td>590.09</td>\n",
              "      <td>114160200</td>\n",
              "      <td>83.83</td>\n",
              "    </tr>\n",
              "    <tr>\n",
              "      <th>2014-05-30</th>\n",
              "      <td>637.98</td>\n",
              "      <td>644.17</td>\n",
              "      <td>628.90</td>\n",
              "      <td>633.00</td>\n",
              "      <td>141005200</td>\n",
              "      <td>90.43</td>\n",
              "    </tr>\n",
              "    <tr>\n",
              "      <th>2014-06-30</th>\n",
              "      <td>92.10</td>\n",
              "      <td>93.73</td>\n",
              "      <td>92.09</td>\n",
              "      <td>92.93</td>\n",
              "      <td>49482300</td>\n",
              "      <td>92.93</td>\n",
              "    </tr>\n",
              "    <tr>\n",
              "      <th>2014-07-31</th>\n",
              "      <td>96.27</td>\n",
              "      <td>96.80</td>\n",
              "      <td>93.92</td>\n",
              "      <td>95.35</td>\n",
              "      <td>65130000</td>\n",
              "      <td>95.35</td>\n",
              "    </tr>\n",
              "  </tbody>\n",
              "</table>\n",
              "<p>404 rows × 6 columns</p>\n",
              "</div>"
            ],
            "text/plain": [
              "              Open    High     Low   Close     Volume  Adj Close\n",
              "Date                                                            \n",
              "1980-12-31   34.25   34.25   34.13   34.13    8937600       0.53\n",
              "1981-01-30   28.50   28.50   28.25   28.25   11547200       0.44\n",
              "1981-02-27   26.50   26.75   26.50   26.50    3690400       0.41\n",
              "1981-03-31   24.75   24.75   24.50   24.50    3998400       0.38\n",
              "1981-04-30   28.38   28.62   28.38   28.38    3152800       0.44\n",
              "...            ...     ...     ...     ...        ...        ...\n",
              "2014-03-31  539.23  540.81  535.93  536.74   42167300      76.25\n",
              "2014-04-30  592.64  599.43  589.80  590.09  114160200      83.83\n",
              "2014-05-30  637.98  644.17  628.90  633.00  141005200      90.43\n",
              "2014-06-30   92.10   93.73   92.09   92.93   49482300      92.93\n",
              "2014-07-31   96.27   96.80   93.92   95.35   65130000      95.35\n",
              "\n",
              "[404 rows x 6 columns]"
            ]
          },
          "metadata": {
            "tags": []
          },
          "execution_count": 81
        }
      ]
    },
    {
      "cell_type": "code",
      "metadata": {
        "colab": {
          "base_uri": "https://localhost:8080/"
        },
        "id": "OpgRIDPpE7hS",
        "outputId": "81f30227-1c2a-4720-c7c1-6f500937e728"
      },
      "source": [
        "# Какая разница в днях между первым днем и самым давним?\n",
        "\n",
        "# Неявно создается объект timedelta и к нему применяется days\n",
        "(new_df.index.max()-new_df.index.min()).days "
      ],
      "execution_count": null,
      "outputs": [
        {
          "output_type": "execute_result",
          "data": {
            "text/plain": [
              "12261"
            ]
          },
          "metadata": {
            "tags": []
          },
          "execution_count": 16
        }
      ]
    },
    {
      "cell_type": "code",
      "metadata": {
        "colab": {
          "base_uri": "https://localhost:8080/"
        },
        "id": "cCEuyeaVGbsy",
        "outputId": "c4bc9916-16bc-4fd7-c905-d873f24775b5"
      },
      "source": [
        "# Сколько месяцев у нас есть в данных?\n",
        "new_df.resample('1M').ngroups"
      ],
      "execution_count": null,
      "outputs": [
        {
          "output_type": "execute_result",
          "data": {
            "text/plain": [
              "404"
            ]
          },
          "metadata": {
            "tags": []
          },
          "execution_count": 17
        }
      ]
    },
    {
      "cell_type": "code",
      "metadata": {
        "colab": {
          "base_uri": "https://localhost:8080/",
          "height": 531
        },
        "id": "_HhxqTiTHaeu",
        "outputId": "d9c463fd-6f49-4f97-e57e-9512e5c6a141"
      },
      "source": [
        "# Постройте значение «Adj Close». Установите размер рисунка 13,5 х 9 дюймов.\n",
        "new_df['Adj Close'].plot(\n",
        "                          ylabel = 'adj close',\n",
        "                          xlabel = 'date',\n",
        "                          figsize=(13.5,9),\n",
        "                          grid=True)"
      ],
      "execution_count": null,
      "outputs": [
        {
          "output_type": "execute_result",
          "data": {
            "text/plain": [
              "<matplotlib.axes._subplots.AxesSubplot at 0x7fd838d187f0>"
            ]
          },
          "metadata": {
            "tags": []
          },
          "execution_count": 38
        },
        {
          "output_type": "display_data",
          "data": {
            "image/png": "[encoded data removed]",
            "text/plain": [
              "<Figure size 972x648 with 1 Axes>"
            ]
          },
          "metadata": {
            "tags": [],
            "needs_background": "light"
          }
        }
      ]
    },
    {
      "cell_type": "markdown",
      "metadata": {
        "id": "SO1EIZ28hIGI"
      },
      "source": [
        "**Доп. задание (макс балл 1.5)**\n",
        "- Придумайте собственные вопросы и ответьте на них. Также можете нарисовать какие-то интересные графики."
      ]
    },
    {
      "cell_type": "code",
      "metadata": {
        "id": "6swuHLhlhksp"
      },
      "source": [
        ""
      ],
      "execution_count": null,
      "outputs": []
    }
  ]
}