{
  "nbformat": 4,
  "nbformat_minor": 0,
  "metadata": {
    "colab": {
      "name": "hw3/1.ipynb\"",
      "provenance": [],
      "collapsed_sections": [],
      "toc_visible": true
    },
    "kernelspec": {
      "name": "python3",
      "display_name": "Python 3"
    }
  },
  "cells": [
    {
      "cell_type": "markdown",
      "metadata": {
        "id": "GRHI95bRZIis"
      },
      "source": [
        "Ссыла на colab\r\n",
        "https://colab.research.google.com/drive/1PhGsseiRNsbwLAqfvYx1MO-edf8fbP7Q?usp=sharing"
      ]
    },
    {
      "cell_type": "markdown",
      "metadata": {
        "id": "-PkQ9hSoulSP"
      },
      "source": [
        "## Домашнее задание. Часть 1.\n",
        "\n",
        "- напишем свою собственную библиотеку\n",
        "\n",
        "Вего за эту часть ДЗ можно набрать максимум **11.5 баллов**. Разбиение баллов по каждой из задач представлено непосредственно перед текстом каждой задачи.\n",
        "\n",
        "**Дедлайн - пятница, 11.12.2020 в 23:59.**\n",
        "\n",
        "Дедлайн жесткий, сдача после дедлайна - 0 баллов за ДЗ."
      ]
    },
    {
      "cell_type": "markdown",
      "metadata": {
        "id": "raMUrDs_OUUp"
      },
      "source": [
        ""
      ]
    },
    {
      "cell_type": "markdown",
      "metadata": {
        "id": "DlJPKMxvBZDq"
      },
      "source": [
        "Допустим мы хотим написать фнкцию, которая складывает 2 числа и сохранить ее в отдельный .py файл. Пример:"
      ]
    },
    {
      "cell_type": "code",
      "metadata": {
        "colab": {
          "base_uri": "https://localhost:8080/"
        },
        "id": "YWxx_tJFBWXc",
        "outputId": "711f04f7-3384-486e-e6fe-427ad5f1ac48"
      },
      "source": [
        "%%writefile lib.py\n",
        "def summ(a1, b1):\n",
        "    return a1+b1"
      ],
      "execution_count": 1,
      "outputs": [
        {
          "output_type": "stream",
          "text": [
            "Writing lib.py\n"
          ],
          "name": "stdout"
        }
      ]
    },
    {
      "cell_type": "code",
      "metadata": {
        "id": "GpwqwV2XBWe0"
      },
      "source": [
        "from lib import summ"
      ],
      "execution_count": 2,
      "outputs": []
    },
    {
      "cell_type": "code",
      "metadata": {
        "colab": {
          "base_uri": "https://localhost:8080/"
        },
        "id": "PdSwrEkYud_1",
        "outputId": "ed78dee4-4e1c-42b4-b45f-7f281f536313"
      },
      "source": [
        "summ(2,6)"
      ],
      "execution_count": 3,
      "outputs": [
        {
          "output_type": "execute_result",
          "data": {
            "text/plain": [
              "8"
            ]
          },
          "metadata": {
            "tags": []
          },
          "execution_count": 3
        }
      ]
    },
    {
      "cell_type": "markdown",
      "metadata": {
        "id": "lzVEq6dcB_B6"
      },
      "source": [
        "Попробуем запустить через \"терминал\""
      ]
    },
    {
      "cell_type": "code",
      "metadata": {
        "id": "GnvjY52dB9F0"
      },
      "source": [
        "!python3 lib.py"
      ],
      "execution_count": 4,
      "outputs": []
    },
    {
      "cell_type": "markdown",
      "metadata": {
        "id": "12k4C-iDCGD5"
      },
      "source": [
        "Ничего не происходит. А теперь добавим `if __name__ == \"__main__\"` в наш код и пересохраним файл lib.py"
      ]
    },
    {
      "cell_type": "code",
      "metadata": {
        "colab": {
          "base_uri": "https://localhost:8080/"
        },
        "id": "EXxDy4EoujyT",
        "outputId": "9fe86365-445d-4a45-adb8-b63b796e0d88"
      },
      "source": [
        "%%writefile lib.py\n",
        "import sys\n",
        "\n",
        "a1 = float( sys.argv[1] ) # Считываем аргументы прямо из терминала\n",
        "b1 = float( sys.argv[2] ) # Считываем аргументы прямо из терминала\n",
        "\n",
        "def summ(a1, b1):\n",
        "    return a1+b1\n",
        "\n",
        "if __name__ == \"__main__\":\n",
        "    print(summ(a1, b1))\n"
      ],
      "execution_count": 5,
      "outputs": [
        {
          "output_type": "stream",
          "text": [
            "Overwriting lib.py\n"
          ],
          "name": "stdout"
        }
      ]
    },
    {
      "cell_type": "code",
      "metadata": {
        "colab": {
          "base_uri": "https://localhost:8080/"
        },
        "id": "9kg9IKcWuj1F",
        "outputId": "798d8945-c333-42c8-93ef-121beaedf9e4"
      },
      "source": [
        "!python3 lib.py 2 4"
      ],
      "execution_count": 6,
      "outputs": [
        {
          "output_type": "stream",
          "text": [
            "6.0\n"
          ],
          "name": "stdout"
        }
      ]
    },
    {
      "cell_type": "markdown",
      "metadata": {
        "id": "MEQd0OJnD4ut"
      },
      "source": [
        "# **Задание 1**\n",
        "\n",
        "Реализуйте следующие функции и сохраните их в библиотеку **my_math_lib.py** (пока без использования конструкции `if __name__ == \"__main__\"`)"
      ]
    },
    {
      "cell_type": "markdown",
      "metadata": {
        "id": "-irvYNmrD9FA"
      },
      "source": [
        "**1 point** \n",
        "1. **def deg_to_rad()**. Напишите программу на Python для преобразования градусов в радианы.  *(Note: Радиан - это стандартная единица измерения угла, используемая во многих областях математики. Измерение угла в радианах численно равно длине соответствующей дуги единичного круга; один радиан чуть меньше 57,3 градуса)* **1 point**\n",
        "\n",
        "**1 point** \n",
        "2. **def rad_to_def()**. Напишите программу Python для преобразования радианов в градусы.\n",
        "\n",
        "**1.5 point** \n",
        "3. **def discriminant()**. Напишите программу на Python для вычисления значения дискриминанта (вспоминаем квадратные уравнения). Входные данные три числа: x, y, z (учтите что корни могут быть комлЕксными!)\n",
        "\n",
        "**1.5 point** \n",
        "4. **def power_base_sum()**. Напишите программу на Python, чтобы вычислить сумму всех цифр основания в указанной степени.\n",
        "\n",
        "Пример: power_base_sum(2, 100)\n",
        "\n",
        "Выход: 115\n",
        "\n",
        "\n",
        "\n",
        "**2 point** \n",
        "5. **def magic_square()**. Напишите программу на Python для вычисления [магического квадрата](https://ru.wikipedia.org/wiki/Магический_квадрат)\n",
        "\n",
        "Note:\n",
        "\n",
        "Магический, или волшебный квадрат — это квадратная таблица , заполненная числами таким образом, что сумма чисел в каждой строке, каждом столбце и на обеих диагоналях одинакова. Сумма чисел в каждой строке, столбце и на диагоналях, называется магической константой, M.\n",
        "\n",
        "**1 point** \n",
        "6. **def mult_list()**. Напишите функцию Python для умножения всех чисел в массиве list(), (размер листа на входе произвольный)\n",
        "\n",
        "**1 point** \n",
        "7. **def create_list()**. Напишите функцию Python для создания и вывода списка (при помощи print()), в котором значения представляют собой квадрат чисел от 1 до 30 (оба включительно)."
      ]
    },
    {
      "cell_type": "code",
      "metadata": {
        "id": "YcvXEEFsD8Pn",
        "colab": {
          "base_uri": "https://localhost:8080/"
        },
        "outputId": "72029e52-ab35-45e9-8a7d-1fd97c2d2291"
      },
      "source": [
        "%%writefile my_math_lib.py\n",
        "\n",
        "from math import pi, sqrt\n",
        "\n",
        "def deg_to_rad(deg): #1\n",
        "  return deg*(pi/180)\n",
        "\n",
        "def rad_to_deg(rad): #2\n",
        "  return rad*(180/pi)\n",
        "\n",
        "def discriminant(a, b, c): #3\n",
        "  # вычисление дискриминанта d= b^2 - 4ac:\n",
        "  return (b*b) - (4*a*c)\n",
        "\n",
        "\n",
        "def power_base_sum(a,b): #4\n",
        "  return sum([int(i) for i in str(a**b)])\n",
        "\n",
        "def magic_square(n): #5\n",
        "  # Функция работает только для квадратов нечетного порядка\n",
        "  square = [[0] * n for i in range(n)]\n",
        "\n",
        "  if n%2 != 0:\n",
        "    for i in range(n):\n",
        "      row = ''  # переменная для вывода матрицы построчно\n",
        "      for j in range(n):\n",
        "        # вычисление элемента матрицы\n",
        "        square[i][j] = int(1 + ((i+1+j+(n-1)/2)%n)*n + ((i+1+(2*j)+1+2)%n))\n",
        "\n",
        "        # сразу же записываем значение в строку\n",
        "        row += ' {0:4}'.format(str(square[i][j]))\n",
        "      # выводим строку\n",
        "      print(row+'\\n')\n",
        "\n",
        "    print(f'M = {int(n*((n**2)+1)/2)}')\n",
        "\n",
        "def mult_list(lst): #6\n",
        "  result = 1\n",
        "  for i in lst:\n",
        "    result *= i\n",
        "  return result\n",
        "\n",
        "def create_list(): #7\n",
        "  lst = [i**2 for i in range(1,31)]\n",
        "  print(lst)\n"
      ],
      "execution_count": 7,
      "outputs": [
        {
          "output_type": "stream",
          "text": [
            "Writing my_math_lib.py\n"
          ],
          "name": "stdout"
        }
      ]
    },
    {
      "cell_type": "markdown",
      "metadata": {
        "id": "cSdLK3ZSID3B"
      },
      "source": [
        "# **Задание 2**\n",
        "Импортируйте все методы из модуля my_math_lib.\n",
        "\n",
        " **0.25 point** \n",
        " - при помощи функции **def discriminant()** посчитайте дискриминант следующего уравнения: \n",
        " $x^{2}+3 x+4=0$\n",
        "\n",
        "**0.25 point** \n",
        " - постройте магический квадрат размера 5х5"
      ]
    },
    {
      "cell_type": "code",
      "metadata": {
        "id": "k1Jhjs6FD8Sy"
      },
      "source": [
        "from my_math_lib import *"
      ],
      "execution_count": 8,
      "outputs": []
    },
    {
      "cell_type": "code",
      "metadata": {
        "id": "zjQVS7m8uj4J",
        "colab": {
          "base_uri": "https://localhost:8080/"
        },
        "outputId": "66b3db16-e25b-4243-924d-adc658e693ed"
      },
      "source": [
        "discriminant(1,3,4)"
      ],
      "execution_count": 9,
      "outputs": [
        {
          "output_type": "execute_result",
          "data": {
            "text/plain": [
              "-7"
            ]
          },
          "metadata": {
            "tags": []
          },
          "execution_count": 9
        }
      ]
    },
    {
      "cell_type": "code",
      "metadata": {
        "colab": {
          "base_uri": "https://localhost:8080/"
        },
        "id": "Ote1t06BV6LV",
        "outputId": "4aecba47-8ce5-4662-cfab-b17e429eb1ed"
      },
      "source": [
        "magic_square(5)"
      ],
      "execution_count": 10,
      "outputs": [
        {
          "output_type": "stream",
          "text": [
            " 20   22   4    6    13  \n",
            "\n",
            " 21   3    10   12   19  \n",
            "\n",
            " 2    9    11   18   25  \n",
            "\n",
            " 8    15   17   24   1   \n",
            "\n",
            " 14   16   23   5    7   \n",
            "\n",
            "M = 65\n"
          ],
          "name": "stdout"
        }
      ]
    },
    {
      "cell_type": "markdown",
      "metadata": {
        "id": "1xqoQlZkId3s"
      },
      "source": [
        "# **Задание 3**\n",
        "\n",
        "**2 point**\n",
        "* Добавьте в вашу библиотеку конструкцию `if __name__ == \"__main__\"`, которая должна принимать одну из вышеперечисленных функций. \n",
        "* Важно! аргументы, подаваемые в функцию, должны подаваться напряму через терминал (как в примере)! Используйте для этого библиотеку `sys`"
      ]
    },
    {
      "cell_type": "code",
      "metadata": {
        "id": "CPMx4V4DJIVx"
      },
      "source": [
        "#TODO"
      ],
      "execution_count": 11,
      "outputs": []
    },
    {
      "cell_type": "code",
      "metadata": {
        "id": "RAeJ3p1BJX05"
      },
      "source": [
        "# Пример вызова функции - Вы можете вызвать любую другую\n",
        "!python3 my_math_lib.py 3,4,5 # Например если в __main__ вы указали def discriminant()"
      ],
      "execution_count": 12,
      "outputs": []
    },
    {
      "cell_type": "code",
      "metadata": {
        "id": "UDQ_wTJbJAS7",
        "colab": {
          "base_uri": "https://localhost:8080/"
        },
        "outputId": "125beed9-ba94-4d31-c78e-e8ec437c83cb"
      },
      "source": [
        "%%writefile my_math_lib.py\n",
        "\n",
        "import sys\n",
        "from math import pi, sqrt\n",
        "\n",
        "def deg_to_rad(deg): #1\n",
        "  return deg*(pi/180)\n",
        "\n",
        "def rad_to_deg(rad): #2\n",
        "  return rad*(180/pi)\n",
        "\n",
        "def discriminant(a, b, c): #3\n",
        "  # вычисление дискриминанта d= b^2 - 4ac:\n",
        "  return (b*b) - (4*a*c)\n",
        "  '''\n",
        "  if d > 0:\n",
        "    x1 = (-b + sqrt(d))/(2*a)\n",
        "    x2 = (-b - sqrt(d))/(2*a)\n",
        "  \n",
        "  return d, x1, x2'''\n",
        "\n",
        "\n",
        "def power_base_sum(a,b): #4\n",
        "  return sum([int(i) for i in str(a**b)])\n",
        "\n",
        "def magic_square(n): #5\n",
        "  # Функция работает только для квадратов нечетного порядка\n",
        "  square = [[0] * n for i in range(n)]\n",
        "\n",
        "  if n%2 != 0:\n",
        "    for i in range(n):\n",
        "      for j in range(n):\n",
        "        square[i][j] = int(1 + ((i+1+j+(n-1)/2)%n)*n + ((i+1+(2*j)+1+2)%n))\n",
        "\n",
        "  # Вывод квадрата\n",
        "  for i in range(n):\n",
        "    row = ''\n",
        "    for j in range(n):\n",
        "      row += ' {0:4}'.format(str(square[i][j]))\n",
        "    print(row+'\\n')\n",
        "  print(f'M = {int(n*((n**2)+1)/2)}')\n",
        "\n",
        "def mult_list(lst): #6\n",
        "  result = 1\n",
        "  for i in lst:\n",
        "    result *= i\n",
        "  return result\n",
        "\n",
        "def create_list(): #7\n",
        "  lst = [i**2 for i in range(1,31)]\n",
        "  print(lst)\n",
        "\n",
        "\n",
        "if __name__ == \"__main__\":\n",
        "  magic_square(int(sys.argv[1]))"
      ],
      "execution_count": 13,
      "outputs": [
        {
          "output_type": "stream",
          "text": [
            "Overwriting my_math_lib.py\n"
          ],
          "name": "stdout"
        }
      ]
    },
    {
      "cell_type": "code",
      "metadata": {
        "colab": {
          "base_uri": "https://localhost:8080/"
        },
        "id": "WuJLuhAGbriJ",
        "outputId": "189a7df2-0e81-4058-ce16-67f2490c16eb"
      },
      "source": [
        "!python3 my_math_lib.py 11"
      ],
      "execution_count": 14,
      "outputs": [
        {
          "output_type": "stream",
          "text": [
            " 71   84   97   110  112  4    17   30   43   45   58  \n",
            "\n",
            " 83   96   109  111  3    16   29   42   55   57   70  \n",
            "\n",
            " 95   108  121  2    15   28   41   54   56   69   82  \n",
            "\n",
            " 107  120  1    14   27   40   53   66   68   81   94  \n",
            "\n",
            " 119  11   13   26   39   52   65   67   80   93   106 \n",
            "\n",
            " 10   12   25   38   51   64   77   79   92   105  118 \n",
            "\n",
            " 22   24   37   50   63   76   78   91   104  117  9   \n",
            "\n",
            " 23   36   49   62   75   88   90   103  116  8    21  \n",
            "\n",
            " 35   48   61   74   87   89   102  115  7    20   33  \n",
            "\n",
            " 47   60   73   86   99   101  114  6    19   32   34  \n",
            "\n",
            " 59   72   85   98   100  113  5    18   31   44   46  \n",
            "\n",
            "M = 671\n"
          ],
          "name": "stdout"
        }
      ]
    }
  ]
}