{
  "nbformat": 4,
  "nbformat_minor": 0,
  "metadata": {
    "colab": {
      "name": "HW6 проверочный.ipynb\"",
      "provenance": [],
      "collapsed_sections": []
    },
    "kernelspec": {
      "name": "python3",
      "display_name": "Python 3"
    }
  },
  "cells": [
    {
      "cell_type": "markdown",
      "metadata": {
        "id": "PDkG3Bis38V_"
      },
      "source": [
        "# Домашнее задание к 7 уроку.\n",
        "\n",
        "**Дедлайн: 23.12.2020**"
      ]
    },
    {
      "cell_type": "markdown",
      "metadata": {
        "id": "T_frQ-789isH"
      },
      "source": [
        "colab: https://colab.research.google.com/drive/1Q9a960oNViiF3n5zj5LcKrRoJaMqFJzk?usp=sharing"
      ]
    },
    {
      "cell_type": "markdown",
      "metadata": {
        "id": "PzhnPFbL3igE"
      },
      "source": [
        "**ФОРМАТ ОТЧЕТНОСТИ:** pdf-файл с решенными задачами (задачи 2-9), ноутбук с проверкой решения этих задач (при помощи numpy), и pdf файл с отчетом по 1-ой задаче (краткий пересказ статьи). Вы можете оформить решения с использованием Markdown (писать текст прямо в юпитер ноутбуке), Latex, Word или же решить в тетради и сформировать pdf из фото.\n",
        "\n",
        "Итого: 2 pdf файла.\n",
        "\n",
        "Все задания необходимо выполнять ВРУЧНУЮ. А также проверить корректность полученных результатов с использованием Numpy.\n",
        "\n",
        "Туториал как писать \"Latex-формулы\" прямо в Юпитере:\n",
        "https://www.youtube.com/watch?v=vSc25kdgecg\n",
        "\n",
        "Ноутбук с примером формул: https://nbviewer.jupyter.org/github/postlogist/course_opt/blob/master/jupyter_tutorial/02_markdown.ipynb\n"
      ]
    },
    {
      "cell_type": "markdown",
      "metadata": {
        "id": "RU2u4fG55fBq"
      },
      "source": [
        "## Пример\n",
        "\n",
        "\n",
        "Найдем ранг матрицы \n",
        "\n",
        "$$\\begin{pmatrix}\n",
        "1 & 2 & 3 & 4 & 5\\\\ \n",
        "2 & 5 & 8 & 11 & 14\\\\ \n",
        "3 & 9 & 14 & 20 & 26\\\\ \n",
        "5 & 14 & 22 & 31 & 40\n",
        "\\end{pmatrix}.$$\n",
        "\n",
        "Четвертая строка является суммой второй и третьей строк, а значит, ее можно отбросить:\n",
        "\n",
        "$$\\begin{pmatrix}\n",
        "1 & 2 & 3 & 4 & 5\\\\ \n",
        "2 & 5 & 8 & 11 & 14\\\\ \n",
        "3 & 9 & 14 & 20 & 26\n",
        "\\end{pmatrix}.$$\n",
        "\n",
        "Из второй и третьей строк вычтем первую, умноженную на $2$ и $3$ соответственно:\n",
        "\n",
        "$$\\begin{pmatrix}\n",
        "1 & 2 & 3 & 4 & 5\\\\ \n",
        "0 & 1 & 2 & 3 & 4\\\\ \n",
        "0 & 2 & 5 & 8 & 11\n",
        "\\end{pmatrix}.$$\n",
        "\n",
        "И вычтем из третьей строки вторую, умноженную на $2$:\n",
        "\n",
        "$$\\begin{pmatrix}\n",
        "1 & 2 & 3 & 4 & 5\\\\ \n",
        "0 & 1 & 2 & 3 & 4\\\\ \n",
        "0 & 0 & 1 & 2 & 3\n",
        "\\end{pmatrix}.$$\n",
        "\n",
        "Таким образом, ранг матрицы равен $3$."
      ]
    },
    {
      "cell_type": "code",
      "metadata": {
        "colab": {
          "base_uri": "https://localhost:8080/"
        },
        "id": "c3mJUpE65vak",
        "outputId": "5a5debbc-1a4a-47a5-8b35-9b40b7caf531"
      },
      "source": [
        "# Проверка\n",
        "\n",
        "import numpy as np\n",
        "a = [1, 2, 3, 4, 5]\n",
        "b = [2, 5, 8, 11, 14]\n",
        "c = [3, 9, 14, 20, 26]\n",
        "d = [5, 14, 22, 31, 40]\n",
        "\n",
        "x = np.array([a, b, c, d])\n",
        "r = np.linalg.matrix_rank(x)\n",
        "\n",
        "print(f'Ранг матрицы: {r}')"
      ],
      "execution_count": null,
      "outputs": [
        {
          "output_type": "stream",
          "text": [
            "Ранг матрицы: 3\n"
          ],
          "name": "stdout"
        }
      ]
    },
    {
      "cell_type": "markdown",
      "metadata": {
        "id": "1NlQHLnE5iV-"
      },
      "source": [
        "# Задачи"
      ]
    },
    {
      "cell_type": "markdown",
      "metadata": {
        "id": "oOoLPT-d232H"
      },
      "source": [
        "**1.** Прочитать статью http://www.scielo.org.mx/pdf/cys/v18n3/v18n3a7.pdf и сделать следующее:\n",
        "\n",
        "- Написать кратко (не более 300 слов (минимум 100), отчет в формате pdf) о различиях между cosine similarity и soft similarity. Привести примеры использования и написать собственный пример вычисления cosine similarity и soft similarity для произвольных векторов (не брать вектора из статьи! надо самим придумать координаты/размерность векторов)"
      ]
    },
    {
      "cell_type": "markdown",
      "metadata": {
        "id": "2A79cNRu3BUA"
      },
      "source": [
        "__2.__ Найти сумму и произведение матриц $A=\\begin{pmatrix}\n",
        "1 & -2\\\\ \n",
        "3 & 0\n",
        "\\end{pmatrix}$ и $B=\\begin{pmatrix}\n",
        "4 & -1\\\\ \n",
        "0 & 5\n",
        "\\end{pmatrix}.$\n",
        "\n",
        "__3.__ Из закономерностей сложения и умножения матриц на число можно сделать вывод, что матрицы одного размера образуют линейное пространство. Вычислить линейную комбинацию $3A-2B+4C$ для матриц $A=\\begin{pmatrix}\n",
        "1 & 7\\\\ \n",
        "3 & -6\n",
        "\\end{pmatrix}$, $B=\\begin{pmatrix}\n",
        "0 & 5\\\\ \n",
        "2 & -1\n",
        "\\end{pmatrix}$, $C=\\begin{pmatrix}\n",
        "2 & -4\\\\ \n",
        "1 & 1\n",
        "\\end{pmatrix}.$\n",
        "    \n",
        "__4.__ Дана матрица $A=\\begin{pmatrix}\n",
        "4 & 1\\\\ \n",
        "5 & -2\\\\ \n",
        "2 & 3\n",
        "\\end{pmatrix}$.\n",
        "Вычислить $AA^{T}$ и $A^{T}A$.\n",
        "\n",
        "__5*.__ Написать на Python функцию для перемножения двух произвольных матриц, не используя NumPy."
      ]
    },
    {
      "cell_type": "markdown",
      "metadata": {
        "id": "-naSOZaf3L7s"
      },
      "source": [
        "\n",
        "__6.__ Вычислить определитель (используйте любой удобный для вас способ вычисления определителя: через миноры, через перестановки или другой):\n",
        "\n",
        "   a)\n",
        "\n",
        "$$\\begin{vmatrix}\n",
        "sinx & -cosx\\\\ \n",
        "cosx & sinx\n",
        "\\end{vmatrix};$$\n",
        "\n",
        "   б)\n",
        "    \n",
        "$$\\begin{vmatrix}\n",
        "8 & 4 & 6\\\\ \n",
        "0 & 5 & 1\\\\ \n",
        "0 & 0 & 9\n",
        "\\end{vmatrix};$$\n",
        "    \n",
        "   в)\n",
        "\n",
        "$$\\begin{vmatrix}\n",
        "2 & 3 & 4\\\\ \n",
        "5 & 6 & 7\\\\ \n",
        "8 & 9 & 10\n",
        "\\end{vmatrix}.$$\n",
        "\n",
        "\n",
        "__7.__ Определитель матрицы $A$ равен $4$. Найти:\n",
        "\n",
        "   а) $det(A^{2})$;\n",
        "    \n",
        "   б) $det(A^{T})$;\n",
        "    \n",
        "   в) $det(2A)$.\n",
        "   \n",
        "__8.__  Доказать, что матрица\n",
        "\n",
        "$$\\begin{pmatrix}\n",
        "-2 & 7 & -3\\\\ \n",
        "4 & -14 & 6\\\\ \n",
        "-3 & 7 & 13\n",
        "\\end{pmatrix}$$\n",
        "   \n",
        "вырожденная.\n",
        "\n",
        "__9.__ Найти ранг матрицы:\n",
        "\n",
        "   а) $\\begin{pmatrix}\n",
        "1 & 2 & 3\\\\ \n",
        "1 & 1 & 1\\\\ \n",
        "2 & 3 & 4\n",
        "\\end{pmatrix};$\n",
        "\n",
        "   б) $\\begin{pmatrix}\n",
        "0 & 0 & 2 & 1\\\\ \n",
        "0 & 0 & 2 & 2\\\\ \n",
        "0 & 0 & 4 & 3\\\\ \n",
        "2 & 3 & 5 & 6\n",
        "\\end{pmatrix}.$"
      ]
    },
    {
      "cell_type": "markdown",
      "metadata": {
        "id": "ekAaqmaE3E1T"
      },
      "source": [
        "# Доп материалы\n",
        "1. [Способы задать матрицу в NumPy](https://docs.scipy.org/doc/numpy-1.10.1/user/basics.creation.html).\n",
        "2. [numpy.transpose](https://docs.scipy.org/doc/numpy-1.10.0/reference/generated/numpy.transpose.html).\n",
        "3. [array.T](https://docs.scipy.org/doc/numpy-1.10.0/reference/generated/numpy.ndarray.T.html).\n",
        "4. [Перемножение матриц в NumPy](https://docs.scipy.org/doc/numpy-1.10.0/reference/routines.linalg.html#matrix-and-vector-products).\n",
        "\n",
        "5. [Определитель матрицы в NumPy](https://docs.scipy.org/doc/numpy-1.14.2/reference/generated/numpy.linalg.det.html)\n",
        "\n",
        "6. [Ранг матрицы в NumPy](https://docs.scipy.org/doc/numpy-1.14.2/reference/generated/numpy.linalg.matrix_rank.html)\n",
        "\n",
        "7. [Обращение матриц в NumPy](https://docs.scipy.org/doc/numpy/reference/generated/numpy.linalg.inv.html)"
      ]
    },
    {
      "cell_type": "code",
      "metadata": {
        "id": "fLlqyVacXjIy"
      },
      "source": [
        "import numpy as np"
      ],
      "execution_count": 1,
      "outputs": []
    },
    {
      "cell_type": "code",
      "metadata": {
        "colab": {
          "base_uri": "https://localhost:8080/"
        },
        "id": "pWHrd9oFXOlN",
        "outputId": "42bf2db3-2f88-435e-baa4-da10784a87d3"
      },
      "source": [
        "# Задание 2\r\n",
        "a = np.array([[1, -2], [3, 0]])\r\n",
        "b = np.array([[4, -1], [0, 5]])\r\n",
        "print(f'Сложение матриц:\\n{a+b}')\r\n",
        "print(f'Перемножение матриц:\\n {a@b}')"
      ],
      "execution_count": 11,
      "outputs": [
        {
          "output_type": "stream",
          "text": [
            "Сложение матриц:\n",
            "[[ 5 -3]\n",
            " [ 3  5]]\n",
            "Перемножение матриц:\n",
            " [[  4 -11]\n",
            " [ 12  -3]]\n"
          ],
          "name": "stdout"
        }
      ]
    },
    {
      "cell_type": "code",
      "metadata": {
        "colab": {
          "base_uri": "https://localhost:8080/"
        },
        "id": "dyp6LSs4Y1Ou",
        "outputId": "5535f0b2-4f90-48b0-ecbb-20a3a7f9e4a7"
      },
      "source": [
        "# Задание 3\r\n",
        "a = np.array([[1, 7], [3, -6]])\r\n",
        "b = np.array([[0, 5], [2, -1]])\r\n",
        "c = np.array([[2, -4], [1, 1]])\r\n",
        "\r\n",
        "def matrix_compute(a,b,c):\r\n",
        "  return 3*a - 2*b + 4*c\r\n",
        "\r\n",
        "print(matrix_compute(a,b,c))"
      ],
      "execution_count": 14,
      "outputs": [
        {
          "output_type": "stream",
          "text": [
            "[[ 11  -5]\n",
            " [  9 -12]]\n"
          ],
          "name": "stdout"
        }
      ]
    },
    {
      "cell_type": "code",
      "metadata": {
        "colab": {
          "base_uri": "https://localhost:8080/"
        },
        "id": "elEL5_R4ZtsV",
        "outputId": "d196d099-338e-454c-ee21-5cec9afc7f17"
      },
      "source": [
        "# Задание 4\r\n",
        "a = np.array([\r\n",
        "              [4,1],\r\n",
        "              [5,-2],\r\n",
        "              [2,3]\r\n",
        "              ])\r\n",
        "\r\n",
        "print(f'a.T * a:\\n{a.T@a}')\r\n",
        "print(f'\\na * a.T:\\n{a@a.T}')"
      ],
      "execution_count": 19,
      "outputs": [
        {
          "output_type": "stream",
          "text": [
            "a.T * a:\n",
            "[[45  0]\n",
            " [ 0 14]]\n",
            "\n",
            "a * a.T:\n",
            "[[17 18 11]\n",
            " [18 29  4]\n",
            " [11  4 13]]\n"
          ],
          "name": "stdout"
        }
      ]
    },
    {
      "cell_type": "code",
      "metadata": {
        "id": "Kme8gE_BxbSu"
      },
      "source": [
        "# Задание 5\r\n",
        "# Написать на Python функцию для перемножения двух произвольных матриц, не используя NumPy.\r\n",
        "\r\n",
        "def matrix_multiply(a,b):\r\n",
        "  if len(a) != len(b[0]):\r\n",
        "    print('Такие матрицы нельзя перемножить')\r\n",
        "\r\n",
        "  # Сразу задаем размерность матрицы\r\n",
        "  result_matrix = [[0 for k in range(len(a))] for l in range(len(a))]\r\n",
        "  for i in range(len(a)):\r\n",
        "    for j in range(len(b[0])):\r\n",
        "      cell = 0\r\n",
        "      for k in range(len(a[0])):\r\n",
        "        cell += a[j][k]*b[k][i]\r\n",
        "      result_matrix[j][i] = cell\r\n",
        "\r\n",
        "  return result_matrix"
      ],
      "execution_count": 54,
      "outputs": []
    },
    {
      "cell_type": "code",
      "metadata": {
        "colab": {
          "base_uri": "https://localhost:8080/"
        },
        "id": "5JakxBxD-eZr",
        "outputId": "eeb5f8c6-39ee-4a7d-d6b6-c157f56c8d61"
      },
      "source": [
        "# Проверка функции\r\n",
        "\r\n",
        "a = np.array([[1, 9], [2, 1], [10,5]])\r\n",
        "b = np.array([[2, 5, 12], [44, 2, 2]])\r\n",
        "\r\n",
        "print(f'Умножение с помощью numpy:\\n {a@b}')\r\n",
        "print(f'Умножение с помощью моего алгоритма:\\n {np.array(matrix_multiply(a,b))}')"
      ],
      "execution_count": 57,
      "outputs": [
        {
          "output_type": "stream",
          "text": [
            "Умножение с помощью numpy:\n",
            " [[398  23  30]\n",
            " [ 48  12  26]\n",
            " [240  60 130]]\n",
            "Умножение с помощью моего алгоритма:\n",
            " [[398  23  30]\n",
            " [ 48  12  26]\n",
            " [240  60 130]]\n"
          ],
          "name": "stdout"
        }
      ]
    },
    {
      "cell_type": "code",
      "metadata": {
        "colab": {
          "base_uri": "https://localhost:8080/"
        },
        "id": "GxvvsTrkxjd7",
        "outputId": "b0da8cbc-7fba-4721-8089-b5cc9757c4b0"
      },
      "source": [
        "# Задание 6\r\n",
        "\r\n",
        "# a\r\n",
        "x = 1\r\n",
        "a = np.array([[np.sin(x), -np.cos(x)], [np.cos(x), np.sin(x)]])\r\n",
        "print(f'Определитель матрицы\\nsinx -cosx\\ncosx sinx:\\n{np.linalg.det(a)}')\r\n",
        "\r\n",
        "#b\r\n",
        "b = np.array([\r\n",
        "              [8,4,6],\r\n",
        "              [0,5,1],\r\n",
        "              [0,0,9]\r\n",
        "])\r\n",
        "print(f'\\nОпределитель матрицы:\\n{int(np.linalg.det(b))}')\r\n",
        "\r\n",
        "c = np.array([\r\n",
        "              [2,3,4],\r\n",
        "              [5,6,7],\r\n",
        "              [8,9,10]\r\n",
        "])\r\n",
        "\r\n",
        "print(f'\\nОпределитель матрицы:\\n{int(np.linalg.det(c))}')"
      ],
      "execution_count": 29,
      "outputs": [
        {
          "output_type": "stream",
          "text": [
            "Определитель матрицы\n",
            "sinx -cosx\n",
            "cosx sinx:\n",
            "1.0\n",
            "\n",
            "Определитель матрицы:\n",
            "360\n",
            "\n",
            "Определитель матрицы:\n",
            "0\n"
          ],
          "name": "stdout"
        }
      ]
    },
    {
      "cell_type": "code",
      "metadata": {
        "colab": {
          "base_uri": "https://localhost:8080/"
        },
        "id": "IKmj49S00OPl",
        "outputId": "3659431d-0406-40a4-e732-1d99a3e570b6"
      },
      "source": [
        "# Задание 7\r\n",
        "detA = 4\r\n",
        "# По свойствам определителей\r\n",
        "print(f'DetA^2 = {detA**2}')\r\n",
        "print(f'DetA = DetA.T = {detA}')\r\n",
        "print(f'Det(2A) = {detA*2}')"
      ],
      "execution_count": 33,
      "outputs": [
        {
          "output_type": "stream",
          "text": [
            "DetA^2 = 16\n",
            "DetA = DetA.T = 4\n",
            "Det(2A) = 8\n"
          ],
          "name": "stdout"
        }
      ]
    },
    {
      "cell_type": "code",
      "metadata": {
        "colab": {
          "base_uri": "https://localhost:8080/"
        },
        "id": "LDh8-9nG0vNN",
        "outputId": "84f0be1e-1fad-473e-b87c-87089119f013"
      },
      "source": [
        "# Задание 8\r\n",
        "a = np.array([\r\n",
        "              [-2,7,-3],\r\n",
        "              [4,-14,6],\r\n",
        "              [-3,7,13]            \r\n",
        "])\r\n",
        "\r\n",
        "if np.linalg.det(a) == 0:\r\n",
        "  print('Матрица вырожденная')\r\n",
        "else:\r\n",
        "  print('Матрица невырожденная')"
      ],
      "execution_count": 34,
      "outputs": [
        {
          "output_type": "stream",
          "text": [
            "Матрица вырожденная\n"
          ],
          "name": "stdout"
        }
      ]
    },
    {
      "cell_type": "code",
      "metadata": {
        "colab": {
          "base_uri": "https://localhost:8080/"
        },
        "id": "RDzVEr4r1Igt",
        "outputId": "8f659ac2-de90-4842-cbfa-d3c0f63f6c01"
      },
      "source": [
        "# Задание 9\r\n",
        "a = np.array([\r\n",
        "              [1,2,3],\r\n",
        "              [1,1,1],\r\n",
        "              [2,3,4]\r\n",
        "])\r\n",
        "\r\n",
        "print(f'Ранг матрицы: {np.linalg.matrix_rank(a)}')\r\n",
        "\r\n",
        "b = np.array([\r\n",
        "              [0,0,2,1],\r\n",
        "              [0,0,2,2],\r\n",
        "              [0,0,4,3],\r\n",
        "              [2,3,5,6]\r\n",
        "])\r\n",
        "print(f'Ранг матрицы: {np.linalg.matrix_rank(b)}')"
      ],
      "execution_count": 58,
      "outputs": [
        {
          "output_type": "stream",
          "text": [
            "Ранг матрицы: 2\n",
            "Ранг матрицы: 3\n"
          ],
          "name": "stdout"
        }
      ]
    }
  ]
}