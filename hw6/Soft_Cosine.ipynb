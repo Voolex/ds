{
  "nbformat": 4,
  "nbformat_minor": 0,
  "metadata": {
    "colab": {
      "name": "Soft Cosine.ipynb",
      "provenance": []
    },
    "kernelspec": {
      "name": "python3",
      "display_name": "Python 3"
    }
  },
  "cells": [
    {
      "cell_type": "code",
      "metadata": {
        "id": "bT1v4TntwbCj"
      },
      "source": [
        "import numpy as np"
      ],
      "execution_count": 1,
      "outputs": []
    },
    {
      "cell_type": "code",
      "metadata": {
        "id": "s-pq_ssUxEhU"
      },
      "source": [
        "# 2 произвольных вектора\r\n",
        "\r\n",
        "a = np.array([7,3])\r\n",
        "b = np.array([3,7])"
      ],
      "execution_count": 81,
      "outputs": []
    },
    {
      "cell_type": "code",
      "metadata": {
        "id": "fKC589D9xT6q"
      },
      "source": [
        "# Косинусная мера\r\n",
        "def cosine_sim(a,b):\r\n",
        "  summ = 0\r\n",
        "  for i in range(len(a)):\r\n",
        "    summ += a[i]*b[i]\r\n",
        "    result = summ/(np.sqrt(sum(a**2)) * np.sqrt(sum(b**2)))\r\n",
        "  return result"
      ],
      "execution_count": 77,
      "outputs": []
    },
    {
      "cell_type": "code",
      "metadata": {
        "id": "lS8HzzpP0h00"
      },
      "source": [
        "# Метод нахождения расстояния Левеншейна (взят из википедии)\r\n",
        "def distance(a, b):\r\n",
        "    \"Calculates the Levenshtein distance between a and b.\"\r\n",
        "    n, m = len(a), len(b)\r\n",
        "    if n > m:\r\n",
        "        # Make sure n <= m, to use O(min(n, m)) space\r\n",
        "        a, b = b, a\r\n",
        "        n, m = m, n\r\n",
        "\r\n",
        "    current_row = range(n + 1)  # Keep current and previous row, not entire matrix\r\n",
        "    for i in range(1, m + 1):\r\n",
        "        previous_row, current_row = current_row, [i] + [0] * n\r\n",
        "        for j in range(1, n + 1):\r\n",
        "            add, delete, change = previous_row[j] + 1, current_row[j - 1] + 1, previous_row[j - 1]\r\n",
        "            if a[j - 1] != b[i - 1]:\r\n",
        "                change += 1\r\n",
        "            current_row[j] = min(add, delete, change)\r\n",
        "\r\n",
        "    return current_row[n]\r\n",
        "\r\n",
        "def sim(lev):\r\n",
        "  return 1/(lev+1)"
      ],
      "execution_count": 75,
      "outputs": []
    },
    {
      "cell_type": "code",
      "metadata": {
        "colab": {
          "base_uri": "https://localhost:8080/"
        },
        "id": "YTkE8ln00jF6",
        "outputId": "34c7ae07-1b8d-4311-a8bd-5c7764a478f6"
      },
      "source": [
        "#TODO\r\n",
        "def soft_cosine(a,b):\r\n",
        "\r\n",
        "  #s = np.sqrt(sim(distance(a,b)))\r\n",
        "  for i in range(len(a)):\r\n",
        "    for j in range(len(a)):\r\n",
        "      # не разобрался, доделать позже\r\n"
      ],
      "execution_count": 80,
      "outputs": [
        {
          "output_type": "execute_result",
          "data": {
            "text/plain": [
              "-0.5163977794943222"
            ]
          },
          "metadata": {
            "tags": []
          },
          "execution_count": 80
        }
      ]
    },
    {
      "cell_type": "code",
      "metadata": {
        "colab": {
          "base_uri": "https://localhost:8080/"
        },
        "id": "alGKrUpI3NSs",
        "outputId": "7e28b1a7-f85f-4d24-8ecd-c826ced29312"
      },
      "source": [
        "cosine_sim(a,b)"
      ],
      "execution_count": 82,
      "outputs": [
        {
          "output_type": "execute_result",
          "data": {
            "text/plain": [
              "0.7241379310344827"
            ]
          },
          "metadata": {
            "tags": []
          },
          "execution_count": 82
        }
      ]
    }
  ]
}